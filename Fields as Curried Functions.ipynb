{
 "cells": [
  {
   "cell_type": "markdown",
   "metadata": {
    "code_folding": [
     0
    ],
    "hide_input": false,
    "hide_output": false,
    "run_control": {
     "marked": false
    }
   },
   "source": [
    "# 1. Fields as Curried Functions"
   ]
  },
  {
   "cell_type": "markdown",
   "metadata": {
    "code_folding": [
     0
    ]
   },
   "source": [
    "In a 1994 paper, Gary T Leavens explained, in a wonderfully graspable manner, that Fields in physics can actually be viewed as curried functions. If you understand what curried functions are, then you already have a good idea of what fields are—these sort of bridges are incredibly helpful to those of us peering in from both sides of the divide (for me, from the CS side). The examples were in scheme and so the syntax inversion might make it a bit difficult for the unpracticed (such as myself) to follow, hence my translating (and hopefully, helpful to you too). My examples here are in F#, where units of measure are especially helpful in making things clearer."
   ]
  },
  {
   "cell_type": "markdown",
   "metadata": {
    "code_folding": []
   },
   "source": [
    "##Table of Contents\n",
    "* [1. Fields as Curried Functions](#1.-Fields-as-Curried-Functions)\n",
    "* [2. Gravity](#2.-Gravity)\n",
    "\t* [2.1 Graphing the near Earth Gravitational Pull](#2.1-Graphing-the-near-Earth-Gravitational-Pull)\n",
    "\t* [2.2 Not Falling is Unnatural](#2.2-Not-Falling-is-Unnatural)\n",
    "* [3. Vector Fields](#3.-Vector-Fields)\n",
    "\t* [3.1 Finally, On Currying vs Fields](#3.1-Finally,-On-Currying-vs-Fields)\n",
    "\t\t* [3.1.1 A quick note on Observables](#3.1.1-A-quick-note-on-Observables)\n",
    "\t\t* [3.1.2 Quantum Field Theory](#3.1.2-Quantum-Field-Theory)\n",
    "\t\t* [3.1.3 Speculations or, Here be Dragons](#3.1.3-Speculations-or,-Here-be-Dragons)\n",
    "* [4. Examples by Visualizations of and Interacting with Static Fields](#4.-Examples-by-Visualizations-of-and-Interacting-with-Static-Fields)\n",
    "\t* [4.1 Generalizing to Static Fields](#4.1-Generalizing-to-Static-Fields)\n"
   ]
  },
  {
   "cell_type": "markdown",
   "metadata": {},
   "source": [
    "# 2. Gravity"
   ]
  },
  {
   "cell_type": "markdown",
   "metadata": {},
   "source": [
    "First some definitions:"
   ]
  },
  {
   "cell_type": "code",
   "execution_count": 1,
   "metadata": {
    "code_folding": [],
    "collapsed": false,
    "run_control": {
     "marked": false
    }
   },
   "outputs": [
    {
     "data": {
      "text/plain": [
       "\n",
       "val konst ∈ x∈'a ⟹ 'b ⟹ 'a\n",
       "val inline roundn ∈\n",
       "  n∈int ⟹ x∈ ^a ⟹ float\n",
       "    when  ^a ∈ (static member op_Explicit ∈  ^a ⟹ float)\n",
       "val inline ( </ ) ∈ x∈'a ⟹ f∈('a ⟹ 'b) ⟹ 'b\n",
       "val inline ( /> ) ∈ f∈('a ⟹ 'b ⟹ 'c) ⟹ y∈'b ⟹ x∈'a ⟹ 'c\n"
      ]
     },
     "execution_count": 1,
     "metadata": {},
     "output_type": "execute_result"
    }
   ],
   "source": [
    "//HIDDEN open system, funscript include\n",
    "#r @\"C:\\Users\\sir.deenicus\\Documents\\Visual Studio 2013\\open\\funscript\\FunScript.dll\"\n",
    "#r @\"C:\\Users\\sir.deenicus\\Documents\\Visual Studio 2013\\open\\funscript\\FunScript.Interop.dll\"\n",
    "#r @\"C:\\Users\\sir.deenicus\\Documents\\Visual Studio 2013\\open\\funscript\\packages\\FunScript.TypeScript.Binding.lib\\lib\\net40\\FunScript.TypeScript.Binding.lib.dll\"\n",
    "open FunScript\n",
    "open FunScript.TypeScript\n",
    "open System\n",
    "\n",
    "[<FunScript.JS>]\n",
    "let konst x _ = x\n",
    "\n",
    "let inline roundn (n:int) x = Math.Round(float x, n)\n",
    "\n",
    "let inline (</) x f = f x\n",
    " \n",
    "let inline (/>) f y = (fun x -> f x y)  "
   ]
  },
  {
   "cell_type": "code",
   "execution_count": 272,
   "metadata": {
    "collapsed": false
   },
   "outputs": [
    {
     "data": {
      "text/plain": [
       "\n",
       "val inline joinToStringWith ∈ sep∈string ⟹ s∈seq<'a> ⟹ string\n",
       "val third ∈ 'a ⨯ 'b ⨯ c∈'c ⟹ 'c\n",
       "val tohtmlTableString ∈ headers∈seq<string> ⟹ d∈seq<#seq<string>> ⟹ string\n",
       "val tohtmlTable ∈ headers∈seq<string> ⟹ d∈seq<#seq<string>> ⟹ HtmlOutput\n",
       "val embedScript ∈ s∈string ⟹ HtmlOutput\n",
       "val asHtml ∈ s∈string ⟹ HtmlOutput\n"
      ]
     },
     "execution_count": 272,
     "metadata": {},
     "output_type": "execute_result"
    }
   ],
   "source": [
    "//HIDDEN\n",
    "let inline joinToStringWith sep (s:'a seq) = String.Join(sep, s)\n",
    "let third (_,_,c) = c\n",
    "let tohtmlTableString headers d = \n",
    "    let entryFormat horD xs = xs |> Seq.map (fun x -> sprintf \"<t%s>%s</t%s>\" horD x horD) |> joinToStringWith \"\\n\"\n",
    "    let els = \n",
    "      d \n",
    "      |> Seq.map (entryFormat \"d\" >> fun s -> \"<tr>\" + s + \"</tr>\") \n",
    "      |> joinToStringWith \"\\n\"\n",
    "    sprintf \"<table>%s%s</table>\" (headers |> entryFormat \"h\") els\n",
    "      \n",
    "let tohtmlTable headers d = \n",
    "   {Html = tohtmlTableString headers d}\n",
    "   \n",
    "let embedScript s = {Html = sprintf \"\"\"<script>%s</script>\"\"\" s}\n",
    "\n",
    "let asHtml s = {Html = s}"
   ]
  },
  {
   "cell_type": "code",
   "execution_count": 3,
   "metadata": {
    "code_folding": [],
    "collapsed": false,
    "hide_input": false,
    "hide_output": false,
    "run_control": {
     "marked": false
    }
   },
   "outputs": [
    {
     "data": {
      "text/plain": [
       "\n",
       "val G ∈ float<N m²/kg²> = 6.674e-11\n"
      ]
     },
     "execution_count": 3,
     "metadata": {},
     "output_type": "execute_result"
    }
   ],
   "source": [
    "[<Measure>] type kg\n",
    "[<Measure>] type m\n",
    "[<Measure>] type s\n",
    "[<Measure>] type N = kg * m / s^2\n",
    "\n",
    "let G = 6.674e-11<N * m^2 / kg^2>"
   ]
  },
  {
   "cell_type": "code",
   "execution_count": 4,
   "metadata": {
    "collapsed": false,
    "hide_input": false,
    "hide_output": false,
    "run_control": {
     "marked": false
    }
   },
   "outputs": [
    {
     "data": {
      "text/plain": [
       "\n",
       "val grav_force ∈ m1∈float<kg> ⟹ r∈float<m> ⟹ m2∈float<kg> ⟹ float<N>\n"
      ]
     },
     "execution_count": 4,
     "metadata": {},
     "output_type": "execute_result"
    }
   ],
   "source": [
    "let grav_force (m1:float< kg>) (r:float<m>) (m2:float<kg>) =        \n",
    "    if r = 0.<m> then 0.<N> \n",
    "    else ((m1 * m2) * G) / (r * r)"
   ]
  },
  {
   "cell_type": "markdown",
   "metadata": {
    "hide_input": false,
    "hide_output": false,
    "run_control": {
     "marked": false
    }
   },
   "source": [
    "This is a curried function since it's a function that takes a value and returns a function specialized to the passed in value."
   ]
  },
  {
   "cell_type": "code",
   "execution_count": 15,
   "metadata": {
    "code_folding": [
     0
    ],
    "collapsed": true,
    "hide_input": false,
    "hide_output": false,
    "run_control": {
     "marked": true
    }
   },
   "outputs": [
    {
     "data": {
      "text/plain": [
       "\n",
       "val asideHtm ∈ s∈string ⟹ HtmlOutput\n"
      ]
     },
     "execution_count": 15,
     "metadata": {},
     "output_type": "execute_result"
    }
   ],
   "source": [
    "//HIDDEN asides\n",
    "let asideHtm s = {Html = sprintf \"<div style='border-radius:0.25em;background-color:#FFD954;color:#7F3300;border: 1px solid;font-size:110%%;padding:0.2em 0.6em 0.3em'>%s</div>\" s}"
   ]
  },
  {
   "cell_type": "code",
   "execution_count": 178,
   "metadata": {
    "code_folding": [
     0
    ],
    "collapsed": false,
    "hide_input": false,
    "hide_output": false,
    "run_control": {
     "marked": false
    }
   },
   "outputs": [
    {
     "data": {
      "text/html": [
       "<div style='border-radius:0.25em;background-color:#FFD954;color:#7F3300;border: 1px solid;font-size:110%;padding:0.2em 0.6em 0.3em'><b>Briefly</b>: a curried function such as \n",
       "plus: (+) ∈ (int ⟹ int ⟹ int), allows us to say, pre-apply 5 to it. As in, e.g., f = (+) 5. \n",
       "Then we can do f 3 = 8 or f 10 = 15 etc. Basically, with the preapplication of 5 to (+), we get back a \n",
       "new function: int ⟹ int which takes a number and returns 5 + that number. Easy yes?</div>"
      ]
     },
     "execution_count": 178,
     "metadata": {},
     "output_type": "execute_result"
    }
   ],
   "source": [
    "//HIDDENINPUT\n",
    "asideHtm \"<b>Briefly</b>: a curried function such as \n",
    "plus: (+) ∈ (int ⟹ int ⟹ int), allows us to say, pre-apply 5 to it. As in, e.g., f = (+) 5. \n",
    "Then we can do f 3 = 8 or f 10 = 15 etc. Basically, with the preapplication of 5 to (+), we get back a \n",
    "new function: int ⟹ int which takes a number and returns 5 + that number. Easy yes?\""
   ]
  },
  {
   "cell_type": "markdown",
   "metadata": {
    "hide_input": false,
    "hide_output": false,
    "run_control": {
     "marked": false
    }
   },
   "source": [
    "Returning to our function `grav_force`, when we put it into F# we got the type: \n",
    "\n",
    "`val grav_force ∈ m1∈float<kg> ⟹ r∈float<m> ⟹ m2∈float<kg> ⟹ float<N>`\n",
    "\n",
    "So everything looks good, it takes a mass (such as Earth) and returns a function that takes a distance (e.g. at the surface) which itself returns a function: one from masses (your mass) to Forces (your weight). This function is in fact the definition of a (_scalar_) gravitational field but more on that later. We can _specialize_ the function and get earth's field."
   ]
  },
  {
   "cell_type": "code",
   "execution_count": 5,
   "metadata": {
    "collapsed": false,
    "hide_input": false,
    "hide_output": false,
    "run_control": {
     "marked": false
    }
   },
   "outputs": [
    {
     "data": {
      "text/plain": [
       "\n",
       "val earth_mass ∈ float<kg> = 5.96e+24\n",
       "val earth_rad ∈ float<m> = 6370000.0\n",
       "val earth_grav ∈ (float<m> ⟹ float<kg> ⟹ float<N>)\n"
      ]
     },
     "execution_count": 5,
     "metadata": {},
     "output_type": "execute_result"
    }
   ],
   "source": [
    "let earth_mass = 5.96e24<kg>\n",
    "let earth_rad = 6.37e6<m>\n",
    "let earth_grav = grav_force earth_mass"
   ]
  },
  {
   "cell_type": "markdown",
   "metadata": {
    "hide_input": false,
    "hide_output": false,
    "run_control": {
     "marked": false
    }
   },
   "source": [
    "Similarly, we can specialize to the surface (by applying a distance to `earth_grav`) or we can compute the mass of an object at a particular distance by passing in a distance _and_ a mass. For example, noticing that `N = kg m/s²`, we can compute Earth's accelaration at surface simply by passing in _1kg_ and the Earth's radius for a value of 9.802877992 N (which is just m/s² for this case). But we can do more interesting things with curried functions. We can flip the field equation to compute the gravitational force at a list of distances from earth's surface (a bit more flexible than how physics is typically taught isn't it):"
   ]
  },
  {
   "cell_type": "code",
   "execution_count": 6,
   "metadata": {
    "code_folding": [
     0
    ],
    "collapsed": false,
    "hide_input": false,
    "hide_output": false,
    "run_control": {
     "marked": false
    }
   },
   "outputs": [
    {
     "data": {
      "text/plain": [
       "\n",
       "val flip ∈ f∈('a ⟹ 'b ⟹ 'c) ⟹ a∈'b ⟹ b∈'a ⟹ 'c\n",
       "val flipped_field ∈ (float<m> ⟹ float<N>)\n"
      ]
     },
     "execution_count": 6,
     "metadata": {},
     "output_type": "execute_result"
    }
   ],
   "source": [
    "let flip f a b = f b a\n",
    "let flipped_field = flip earth_grav 1.<kg>"
   ]
  },
  {
   "cell_type": "code",
   "execution_count": 181,
   "metadata": {
    "collapsed": false,
    "hide_input": false,
    "hide_output": false,
    "run_control": {
     "marked": false
    }
   },
   "outputs": [
    {
     "data": {
      "text/plain": [
       "\n",
       "val it ∈ float<N> list =\n",
       "  [9.802877992; 9.502194172; 9.215135446; 8.940890874; 8.678708962; 8.42789251;\n",
       "   8.187793968; 7.957811259; 7.737383994; 7.525990059; 7.323142521]"
      ]
     },
     "execution_count": 181,
     "metadata": {},
     "output_type": "execute_result"
    }
   ],
   "source": [
    "[for dist in 0.0<m>..1e5<m>..1e6<m> -> 6.37e6<m> + dist] |> List.map flipped_field"
   ]
  },
  {
   "cell_type": "markdown",
   "metadata": {
    "hide_input": false,
    "hide_output": false,
    "run_control": {
     "marked": false
    }
   },
   "source": [
    "The map applies our function to each distance in the list to get a list of forces. So at a distance of 1000km, the gravitational acceleration is ~7.32 m/sec². "
   ]
  },
  {
   "cell_type": "code",
   "execution_count": 182,
   "metadata": {
    "code_folding": [
     0
    ],
    "collapsed": false,
    "hide_input": false,
    "hide_output": false,
    "run_control": {
     "marked": false
    }
   },
   "outputs": [
    {
     "data": {
      "text/html": [
       "<div style='border-radius:0.25em;background-color:#FFD954;color:#7F3300;border: 1px solid;font-size:110%;padding:0.2em 0.6em 0.3em'><b>Trivia</b>: Mount Everest's height is 8848 meters, g = 9.776 m/sec² there—only 0.28% \n",
       "weaker than on the surface.</div>"
      ]
     },
     "execution_count": 182,
     "metadata": {},
     "output_type": "execute_result"
    }
   ],
   "source": [
    "//HIDDENINPUT\n",
    "asideHtm \"<b>Trivia</b>: Mount Everest's height is 8848 meters, g = 9.776 m/sec² there—only 0.28% \n",
    "weaker than on the surface.\""
   ]
  },
  {
   "cell_type": "markdown",
   "metadata": {
    "hide_input": false,
    "hide_output": false,
    "run_control": {
     "marked": false
    }
   },
   "source": [
    "Below you can look at the gravitational acceleration on the surface of the moon and Mars. The moon has a mere acceleration of 1.62 m/s² and Mars is only just over 2x that—it is for this reason that many are concerned over the health effects (on skeletomuscular integrity) of an extended mission to Mars. \n",
    "\n",
    "Additionally, we can look at the Earth/Moon system. The Moon and the Earth both exert a force of $2 \\times10^{20}\\,N$ on each other. Both are forever falling towards each other, with the condition that—on the odd chance that—if ever they should meet, things would not end well for both of them. A tragic love story if ever there was one."
   ]
  },
  {
   "cell_type": "code",
   "execution_count": 6,
   "metadata": {
    "code_folding": [],
    "collapsed": false,
    "hide_input": false,
    "hide_output": false,
    "run_control": {
     "marked": false
    }
   },
   "outputs": [
    {
     "data": {
      "text/plain": [
       "\n",
       "val mass_moon ∈ float<kg> = 7.3459e+22\n",
       "val mass_mars ∈ float<kg> = 6.41693e+23\n",
       "val rad_moon ∈ float<m> = 1737500.0\n",
       "val radius_mars ∈ float<m> = 3386000.0\n",
       "val mean_moon_dist ∈ float<m> = 385000000.0\n",
       "val it ∈ float<N> ⨯ float<N> ⨯ float<N> =\n",
       "  (1.623983408, 3.735421349, 1.971314948e+20)"
      ]
     },
     "execution_count": 6,
     "metadata": {},
     "output_type": "execute_result"
    }
   ],
   "source": [
    "let mass_moon = 7.3459e22<kg>\n",
    "let mass_mars = 6.41693e23<kg>\n",
    "let rad_moon = 1737.5<m> * 1000.\n",
    "let radius_mars = 3386.<m> * 1000.\n",
    "\n",
    "let mean_moon_dist = 3.85e8<m>\n",
    "\n",
    "grav_force mass_moon rad_moon    1.<kg>  , \n",
    "grav_force mass_mars radius_mars 1.<kg>  ,\n",
    "grav_force earth_mass mean_moon_dist mass_moon"
   ]
  },
  {
   "cell_type": "markdown",
   "metadata": {
    "hide_input": false,
    "hide_output": false,
    "run_control": {
     "marked": false
    }
   },
   "source": [
    "## 2.1 Graphing the near Earth Gravitational Pull"
   ]
  },
  {
   "cell_type": "markdown",
   "metadata": {},
   "source": [
    "To make things a bit more concrete than a list of numbers, I graph some commonly known locations and the gravitational acceleration felt there. Looking at these, I can't help but think of the common conception (held by myself for a long time too) that space is \"out there\" and far away; when really, space (LEO, at least) is literally within walking distance. Most satellites, the International Space Station included, aren't floating in space; they're still deep within Earth's gravitational well!"
   ]
  },
  {
   "cell_type": "code",
   "execution_count": 8,
   "metadata": {
    "code_folding": [],
    "collapsed": false,
    "hide_input": false,
    "hide_output": false,
    "run_control": {
     "marked": false
    }
   },
   "outputs": [
    {
     "data": {
      "text/html": [
       "<table><th>Location</th>\n",
       "<th>Distance in km</th>\n",
       "<th>g</th><tr><td>GEO Synch</td>\n",
       "<td>40000</td>\n",
       "<td>0.184994267215874</td></tr>\n",
       "<tr><td>GPS</td>\n",
       "<td>20350</td>\n",
       "<td>0.557133861020474</td></tr>\n",
       "<tr><td>~Low Earth Orbit Max</td>\n",
       "<td>2000</td>\n",
       "<td>5.67781902995993</td></tr>\n",
       "<tr><td>Hubble Space Telescope</td>\n",
       "<td>595</td>\n",
       "<td>8.19955381460682</td></tr>\n",
       "<tr><td>ISS Avg</td>\n",
       "<td>382.5</td>\n",
       "<td>8.7237513057884</td></tr>\n",
       "<tr><td>~Low Earth Orbit Min</td>\n",
       "<td>160</td>\n",
       "<td>9.32837721530268</td></tr></table>"
      ]
     },
     "execution_count": 8,
     "metadata": {},
     "output_type": "execute_result"
    }
   ],
   "source": [
    "let pois = [|\"~Low Earth Orbit Min\",   160.<m>  \n",
    "             \"~Low Earth Orbit Max\",  2000.<m>  \n",
    "             \"GEO Synch\"           , 40000.<m>\n",
    "             \"GPS\"                 , 20350.<m>\n",
    "             \"ISS Avg\"             ,  382.5<m>\n",
    "             \"Hubble Space Telescope\", 595.<m>|] \n",
    "\n",
    "let gs = pois |> Array.map (snd >> ( * ) 1000. >> (+) earth_rad >> flipped_field) \n",
    "Array.zip pois gs \n",
    "|> Array.sortBy snd\n",
    "|> Array.map (fun ((l,n),g) -> [|l; string n ; string g|])\n",
    "|> tohtmlTable [\"Location\"; \"Distance in km\"; \"g\"]\n"
   ]
  },
  {
   "cell_type": "code",
   "execution_count": 7,
   "metadata": {
    "collapsed": false
   },
   "outputs": [
    {
     "data": {
      "text/html": [
       "<script type=\"text/javascript\" src=\"https://cdnjs.cloudflare.com/ajax/libs/flot/0.8.3/jquery.flot.js\"></script>"
      ]
     },
     "execution_count": 7,
     "metadata": {},
     "output_type": "execute_result"
    }
   ],
   "source": [
    "//HIDDENINPUT\n",
    "{Html = \"\"\"<script type=\"text/javascript\" src=\"https://cdnjs.cloudflare.com/ajax/libs/flot/0.8.3/jquery.flot.js\"></script>\"\"\"}"
   ]
  },
  {
   "cell_type": "code",
   "execution_count": 9,
   "metadata": {
    "code_folding": [],
    "collapsed": false,
    "hide_input": false,
    "hide_output": false,
    "run_control": {
     "marked": false
    },
    "scrolled": false
   },
   "outputs": [
    {
     "data": {
      "text/html": [
       "\n",
       "<div id=\"placeholder\" style=\"width:800px;height:620px;\"></div>\n",
       "<div style='text-align:center'>km</div>\n",
       "<script type=\"text/javascript\">  \n",
       "\n",
       "  plot = $.plot(\"#placeholder\", \n",
       "   [{ data:  [[0.0,9.803],[100.0,9.502],[200.0,9.215],[300.0,8.941],[400.0,8.679],[500.0,8.428],[600.0,8.188],[700.0,7.958],[800.0,7.737],[900.0,7.526],[1000.0,7.323],[1100.0,7.128],[1200.0,6.941],[1300.0,6.761],[1400.0,6.589],[1500.0,6.422],[1600.0,6.262],[1700.0,6.108],[1800.0,5.959],[1900.0,5.816],[2000.0,5.678],[2100.0,5.545],[2200.0,5.416],[2300.0,5.292],[2400.0,5.172],[2500.0,5.056],[2600.0,4.944],[2700.0,4.835],[2800.0,4.73],[2900.0,4.629],[3000.0,4.531],[3100.0,4.435],[3200.0,4.343],[3300.0,4.254],[3400.0,4.167],[3500.0,4.083],[3600.0,4.002],[3700.0,3.923],[3800.0,3.846],[3900.0,3.771],[4000.0,3.699],[4100.0,3.629],[4200.0,3.56],[4300.0,3.494],[4400.0,3.429],[4500.0,3.366],[4600.0,3.305],[4700.0,3.246],[4800.0,3.188],[4900.0,3.132],[5000.0,3.077],[5100.0,3.023],[5200.0,2.971],[5300.0,2.921],[5400.0,2.871],[5500.0,2.823],[5600.0,2.776],[5700.0,2.73],[5800.0,2.686],[5900.0,2.642],[6000.0,2.6],[6100.0,2.558],[6200.0,2.517],[6300.0,2.478],[6400.0,2.439],[6500.0,2.401],[6600.0,2.365],[6700.0,2.329],[6800.0,2.293],[6900.0,2.259],[7000.0,2.225],[7100.0,2.192],[7200.0,2.16],[7300.0,2.129],[7400.0,2.098],[7500.0,2.068],[7600.0,2.038],[7700.0,2.009],[7800.0,1.981],[7900.0,1.953],[8000.0,1.926],[8100.0,1.9],[8200.0,1.874],[8300.0,1.848],[8400.0,1.823],[8500.0,1.799],[8600.0,1.775],[8700.0,1.751],[8800.0,1.728],[8900.0,1.706],[9000.0,1.684],[9100.0,1.662],[9200.0,1.641],[9300.0,1.62],[9400.0,1.599],[9500.0,1.579],[9600.0,1.56],[9700.0,1.54],[9800.0,1.521],[9900.0,1.503],[10000.0,1.484],[10100.0,1.466],[10200.0,1.449],[10300.0,1.431],[10400.0,1.414],[10500.0,1.398],[10600.0,1.381],[10700.0,1.365],[10800.0,1.349],[10900.0,1.334],[11000.0,1.318],[11100.0,1.303],[11200.0,1.289],[11300.0,1.274],[11400.0,1.26],[11500.0,1.246],[11600.0,1.232],[11700.0,1.218],[11800.0,1.205],[11900.0,1.192],[12000.0,1.179],[12100.0,1.166],[12200.0,1.153],[12300.0,1.141],[12400.0,1.129],[12500.0,1.117],[12600.0,1.105],[12700.0,1.094],[12800.0,1.082],[12900.0,1.071],[13000.0,1.06],[13100.0,1.049],[13200.0,1.039],[13300.0,1.028],[13400.0,1.018],[13500.0,1.007],[13600.0,0.997],[13700.0,0.988],[13800.0,0.978],[13900.0,0.968],[14000.0,0.959],[14100.0,0.949],[14200.0,0.94],[14300.0,0.931],[14400.0,0.922],[14500.0,0.913],[14600.0,0.905],[14700.0,0.896],[14800.0,0.888],[14900.0,0.879],[15000.0,0.871],[15100.0,0.863],[15200.0,0.855],[15300.0,0.847],[15400.0,0.839],[15500.0,0.832],[15600.0,0.824],[15700.0,0.817],[15800.0,0.809],[15900.0,0.802],[16000.0,0.795],[16100.0,0.788],[16200.0,0.781],[16300.0,0.774],[16400.0,0.767],[16500.0,0.761],[16600.0,0.754],[16700.0,0.747],[16800.0,0.741],[16900.0,0.735],[17000.0,0.728],[17100.0,0.722],[17200.0,0.716],[17300.0,0.71],[17400.0,0.704],[17500.0,0.698],[17600.0,0.692],[17700.0,0.687],[17800.0,0.681],[17900.0,0.675],[18000.0,0.67],[18100.0,0.664],[18200.0,0.659],[18300.0,0.654],[18400.0,0.648],[18500.0,0.643],[18600.0,0.638],[18700.0,0.633],[18800.0,0.628],[18900.0,0.623],[19000.0,0.618],[19100.0,0.613],[19200.0,0.608],[19300.0,0.604],[19400.0,0.599],[19500.0,0.594],[19600.0,0.59],[19700.0,0.585],[19800.0,0.581],[19900.0,0.576],[20000.0,0.572],[20100.0,0.568],[20200.0,0.563],[20300.0,0.559],[20400.0,0.555],[20500.0,0.551],[20600.0,0.547],[20700.0,0.543],[20800.0,0.539],[20900.0,0.535],[21000.0,0.531],[21100.0,0.527],[21200.0,0.523],[21300.0,0.52],[21400.0,0.516],[21500.0,0.512],[21600.0,0.508],[21700.0,0.505],[21800.0,0.501],[21900.0,0.498],[22000.0,0.494],[22100.0,0.491],[22200.0,0.487],[22300.0,0.484],[22400.0,0.481],[22500.0,0.477],[22600.0,0.474],[22700.0,0.471],[22800.0,0.467],[22900.0,0.464],[23000.0,0.461],[23100.0,0.458],[23200.0,0.455],[23300.0,0.452],[23400.0,0.449],[23500.0,0.446],[23600.0,0.443],[23700.0,0.44],[23800.0,0.437],[23900.0,0.434],[24000.0,0.431],[24100.0,0.428],[24200.0,0.426],[24300.0,0.423],[24400.0,0.42],[24500.0,0.417],[24600.0,0.415],[24700.0,0.412],[24800.0,0.409],[24900.0,0.407],[25000.0,0.404],[25100.0,0.402],[25200.0,0.399],[25300.0,0.397],[25400.0,0.394],[25500.0,0.392],[25600.0,0.389],[25700.0,0.387],[25800.0,0.384],[25900.0,0.382],[26000.0,0.38],[26100.0,0.377],[26200.0,0.375],[26300.0,0.373],[26400.0,0.37],[26500.0,0.368],[26600.0,0.366],[26700.0,0.364],[26800.0,0.362],[26900.0,0.359],[27000.0,0.357],[27100.0,0.355],[27200.0,0.353],[27300.0,0.351],[27400.0,0.349],[27500.0,0.347],[27600.0,0.345],[27700.0,0.343],[27800.0,0.341],[27900.0,0.339],[28000.0,0.337],[28100.0,0.335],[28200.0,0.333],[28300.0,0.331],[28400.0,0.329],[28500.0,0.327],[28600.0,0.325],[28700.0,0.323],[28800.0,0.322],[28900.0,0.32],[29000.0,0.318],[29100.0,0.316],[29200.0,0.314],[29300.0,0.313],[29400.0,0.311],[29500.0,0.309],[29600.0,0.307],[29700.0,0.306],[29800.0,0.304],[29900.0,0.302],[30000.0,0.301],[30100.0,0.299],[30200.0,0.297],[30300.0,0.296],[30400.0,0.294],[30500.0,0.293],[30600.0,0.291],[30700.0,0.289],[30800.0,0.288],[30900.0,0.286],[31000.0,0.285],[31100.0,0.283],[31200.0,0.282],[31300.0,0.28],[31400.0,0.279],[31500.0,0.277],[31600.0,0.276],[31700.0,0.274],[31800.0,0.273],[31900.0,0.272],[32000.0,0.27],[32100.0,0.269],[32200.0,0.267],[32300.0,0.266],[32400.0,0.265],[32500.0,0.263],[32600.0,0.262],[32700.0,0.261],[32800.0,0.259],[32900.0,0.258],[33000.0,0.257],[33100.0,0.255],[33200.0,0.254],[33300.0,0.253],[33400.0,0.251],[33500.0,0.25],[33600.0,0.249],[33700.0,0.248],[33800.0,0.247],[33900.0,0.245],[34000.0,0.244],[34100.0,0.243],[34200.0,0.242],[34300.0,0.24],[34400.0,0.239],[34500.0,0.238],[34600.0,0.237],[34700.0,0.236],[34800.0,0.235],[34900.0,0.234],[35000.0,0.232],[35100.0,0.231],[35200.0,0.23],[35300.0,0.229],[35400.0,0.228],[35500.0,0.227],[35600.0,0.226],[35700.0,0.225],[35800.0,0.224],[35900.0,0.223],[36000.0,0.222],[36100.0,0.221],[36200.0,0.219],[36300.0,0.218],[36400.0,0.217],[36500.0,0.216],[36600.0,0.215],[36700.0,0.214],[36800.0,0.213],[36900.0,0.212],[37000.0,0.211],[37100.0,0.211],[37200.0,0.21],[37300.0,0.209],[37400.0,0.208],[37500.0,0.207],[37600.0,0.206],[37700.0,0.205],[37800.0,0.204],[37900.0,0.203],[38000.0,0.202],[38100.0,0.201],[38200.0,0.2],[38300.0,0.199],[38400.0,0.198],[38500.0,0.198],[38600.0,0.197],[38700.0,0.196],[38800.0,0.195],[38900.0,0.194],[39000.0,0.193],[39100.0,0.192],[39200.0,0.192],[39300.0,0.191],[39400.0,0.19],[39500.0,0.189],[39600.0,0.188],[39700.0,0.187],[39800.0,0.187],[39900.0,0.186],[40000.0,0.185],[40100.0,0.184],[40200.0,0.183],[40300.0,0.183],[40400.0,0.182],[40500.0,0.181],[40600.0,0.18],[40700.0,0.18],[40800.0,0.179],[40900.0,0.178],[41000.0,0.177],[41100.0,0.177],[41200.0,0.176],[41300.0,0.175],[41400.0,0.174],[41500.0,0.174],[41600.0,0.173],[41700.0,0.172],[41800.0,0.171],[41900.0,0.171],[42000.0,0.17],[42100.0,0.169],[42200.0,0.169],[42300.0,0.168],[42400.0,0.167],[42500.0,0.167],[42600.0,0.166],[42700.0,0.165],[42800.0,0.165],[42900.0,0.164],[43000.0,0.163],[43100.0,0.163],[43200.0,0.162],[43300.0,0.161],[43400.0,0.161],[43500.0,0.16],[43600.0,0.159],[43700.0,0.159],[43800.0,0.158],[43900.0,0.157],[44000.0,0.157],[44100.0,0.156],[44200.0,0.156],[44300.0,0.155],[44400.0,0.154],[44500.0,0.154],[44600.0,0.153],[44700.0,0.153],[44800.0,0.152],[44900.0,0.151],[45000.0,0.151],[45100.0,0.15],[45200.0,0.15],[45300.0,0.149],[45400.0,0.148],[45500.0,0.148],[45600.0,0.147],[45700.0,0.147],[45800.0,0.146],[45900.0,0.146],[46000.0,0.145],[46100.0,0.144],[46200.0,0.144],[46300.0,0.143],[46400.0,0.143],[46500.0,0.142],[46600.0,0.142],[46700.0,0.141],[46800.0,0.141],[46900.0,0.14],[47000.0,0.14],[47100.0,0.139],[47200.0,0.139],[47300.0,0.138],[47400.0,0.138],[47500.0,0.137],[47600.0,0.137],[47700.0,0.136],[47800.0,0.136],[47900.0,0.135],[48000.0,0.135],[48100.0,0.134],[48200.0,0.134],[48300.0,0.133],[48400.0,0.133],[48500.0,0.132],[48600.0,0.132],[48700.0,0.131],[48800.0,0.131],[48900.0,0.13],[49000.0,0.13],[49100.0,0.129],[49200.0,0.129],[49300.0,0.128],[49400.0,0.128],[49500.0,0.127],[49600.0,0.127],[49700.0,0.127],[49800.0,0.126],[49900.0,0.126],[50000.0,0.125]], label: \"Gravitational Accel = 0.0m\" }], \n",
       "    { series:{lines:{show: true}},\n",
       "\t  grid:  {hoverable: true},\n",
       "      yaxis: { tickFormatter: function(val, axis) { return val < axis.max ? val.toFixed(2) : \"m/s²\";}}\n",
       "    });\n",
       "\n",
       "  var legends = $(\"#placeholder .legendLabel\");\n",
       "\n",
       "  legends.each(function () {\n",
       "   $(this).css('width', $(this).width());   // fix the widths so they don't jump around\n",
       "  });\n",
       "\n",
       "  var updateLegendTimeout = null;\n",
       "  var latestPosition = null;\n",
       "\n",
       "  function updateLegend() {\n",
       "\n",
       "   updateLegendTimeout = null;\n",
       "   var pos = latestPosition;\n",
       "\n",
       "   var axes = plot.getAxes();\n",
       "   if (pos.x < axes.xaxis.min || pos.x > axes.xaxis.max ||\n",
       "    pos.y < axes.yaxis.min || pos.y > axes.yaxis.max) {\n",
       "    return;\n",
       "   }\n",
       "\n",
       "   var i, j, dataset = plot.getData();\n",
       "   \n",
       "   for (i = 0; i < dataset.length; ++i) {\n",
       "    var series = dataset[i];\n",
       "    \n",
       "    for (j = 0; j < series.data.length; ++j) {// Find the nearest points, x-wise\n",
       "     if (series.data[j][0] > pos.x) {break;}\n",
       "    }\n",
       "\n",
       "    // Now Interpolate\n",
       "    var y,p1 = series.data[j - 1], p2 = series.data[j];\n",
       "\n",
       "    if (p1 == null) {\n",
       "     y = p2[1];\n",
       "    } else if (p2 == null) {\n",
       "     y = p1[1];\n",
       "    } else {\n",
       "     y = p1[1] + (p2[1] - p1[1]) * (pos.x - p1[0]) / (p2[0] - p1[0]);\n",
       "    }\n",
       "\n",
       "    legends.eq(i).text(series.label.replace(/=.*/, \"= \" + y.toFixed(2) + \"m/s² (\" + pos.x.toFixed(1) +\"km)\"));\n",
       "   }\n",
       "  }\n",
       "  \n",
       "  var ctx = plot.getCanvas().getContext(\"2d\");\n",
       "var lpos;\n",
       "lpos = plot.pointOffset({ x: 160.0, y: 9.328377215});\n",
       "$(\"#placeholder\").append(\"<div style='position:absolute;left:\" + (lpos.left + 4) + \"px;top:\" + (lpos.top - 0) + \"px;color:#666;font-size:smaller'>~Low Earth Orbit Min (160.0km, 9.33m/s²)</div>\");ctx.beginPath();ctx.moveTo(lpos.left, lpos.top);ctx.lineTo(lpos.left, lpos.top - 10);ctx.lineTo(lpos.left + 10, lpos.top - 5); ctx.lineTo(lpos.left, lpos.top); ctx.fill();;\n",
       "\n",
       "lpos = plot.pointOffset({ x: 2000.0, y: 5.67781903});\n",
       "$(\"#placeholder\").append(\"<div style='position:absolute;left:\" + (lpos.left + 4) + \"px;top:\" + (lpos.top - 0) + \"px;color:#666;font-size:smaller'>~Low Earth Orbit Max (2000.0km, 5.68m/s²)</div>\");ctx.beginPath();ctx.moveTo(lpos.left, lpos.top);ctx.lineTo(lpos.left, lpos.top - 10);ctx.lineTo(lpos.left + 10, lpos.top - 5); ctx.lineTo(lpos.left, lpos.top); ctx.fill();;\n",
       "\n",
       "lpos = plot.pointOffset({ x: 40000.0, y: 0.1849942672});\n",
       "$(\"#placeholder\").append(\"<div style='position:absolute;left:\" + (lpos.left + 4) + \"px;top:\" + (lpos.top - 30) + \"px;color:#666;font-size:smaller'>GEO Synch (40000.0km, 0.18m/s²)</div>\");ctx.beginPath();ctx.moveTo(lpos.left, lpos.top);ctx.lineTo(lpos.left, lpos.top - 10);ctx.lineTo(lpos.left + 10, lpos.top - 5); ctx.lineTo(lpos.left, lpos.top); ctx.fill();;\n",
       "\n",
       "lpos = plot.pointOffset({ x: 20350.0, y: 0.557133861});\n",
       "$(\"#placeholder\").append(\"<div style='position:absolute;left:\" + (lpos.left + 4) + \"px;top:\" + (lpos.top - 0) + \"px;color:#666;font-size:smaller'>GPS (20350.0km, 0.56m/s²)</div>\");ctx.beginPath();ctx.moveTo(lpos.left, lpos.top);ctx.lineTo(lpos.left, lpos.top - 10);ctx.lineTo(lpos.left + 10, lpos.top - 5); ctx.lineTo(lpos.left, lpos.top); ctx.fill();;\n",
       "\n",
       "lpos = plot.pointOffset({ x: 382.5, y: 8.723751306});\n",
       "$(\"#placeholder\").append(\"<div style='position:absolute;left:\" + (lpos.left + 4) + \"px;top:\" + (lpos.top - 0) + \"px;color:#666;font-size:smaller'>ISS Avg (382.5km, 8.72m/s²)</div>\");ctx.beginPath();ctx.moveTo(lpos.left, lpos.top);ctx.lineTo(lpos.left, lpos.top - 10);ctx.lineTo(lpos.left + 10, lpos.top - 5); ctx.lineTo(lpos.left, lpos.top); ctx.fill();;\n",
       "\n",
       "lpos = plot.pointOffset({ x: 595.0, y: 8.199553815});\n",
       "$(\"#placeholder\").append(\"<div style='position:absolute;left:\" + (lpos.left + 4) + \"px;top:\" + (lpos.top - 0) + \"px;color:#666;font-size:smaller'>Hubble Space Telescope (595.0km, 8.2m/s²)</div>\");ctx.beginPath();ctx.moveTo(lpos.left, lpos.top);ctx.lineTo(lpos.left, lpos.top - 10);ctx.lineTo(lpos.left + 10, lpos.top - 5); ctx.lineTo(lpos.left, lpos.top); ctx.fill();;\n",
       "\n",
       "  $(\"#placeholder\").bind(\"plothover\",  function (event, pos, item) {\n",
       "   latestPosition = pos;\n",
       "   if (!updateLegendTimeout) {\n",
       "    updateLegendTimeout = setTimeout(updateLegend, 50);\n",
       "   }\n",
       "  }); \n",
       "</script>\n"
      ]
     },
     "execution_count": 9,
     "metadata": {},
     "output_type": "execute_result"
    }
   ],
   "source": [
    "//HIDDENINPUT [[A script, mix of JS and F# to generate a graph]]\n",
    "let adjp (s:string) = if s.[..2] = \"GEO\" then 30 else 0\n",
    "\n",
    "let poi_annotation adj d g s = \n",
    "    let arrow = \"\"\"ctx.beginPath();ctx.moveTo(lpos.left, lpos.top);ctx.lineTo(lpos.left, lpos.top - 10);ctx.lineTo(lpos.left + 10, lpos.top - 5); ctx.lineTo(lpos.left, lpos.top); ctx.fill();\"\"\" \n",
    "    \n",
    "    sprintf\n",
    "     \"$(\\\"#placeholder\\\").append(\\\"<div style='position:absolute;left:\\\" + (lpos.left + 4) + \\\"px;top:\\\" + (lpos.top - %d) + \\\"px;color:#666;font-size:smaller'>%s (%Akm, %Am/s²)</div>\\\");%s\" adj s d g arrow;\n",
    "\n",
    "let accels = [for dist in 0.0<m>..1e5<m>..5e7<m> do\n",
    "                let d = (6.37e6<m> + dist) \n",
    "                let g = (earth_grav d 1.<kg>) \n",
    "                yield sprintf \"[%A,%A]\" (roundn 3 (d/1000. - 6370.<m>)) (roundn 3 g)] \n",
    "\n",
    "let accels_str = String.Join(\",\", accels) \n",
    "\n",
    "let annots = \n",
    "  [for (l,d) in pois -> \n",
    "    let g = flipped_field (earth_rad + d * 1000.)\n",
    "    sprintf \"lpos = plot.pointOffset({ x: %A, y: %A});\\n%s;\"\n",
    "             d g (poi_annotation (adjp l) (roundn 2 d) (roundn 2 g) l)]\n",
    "             \n",
    "let annots_str = \"var ctx = plot.getCanvas().getContext(\\\"2d\\\");\\nvar lpos;\\n\" + String.Join(\"\\n\\n\", annots)\n",
    "\n",
    "let flotTemplate = \"\"\"\n",
    "<div id=\"placeholder\" style=\"width:800px;height:620px;\"></div>\n",
    "<div style='text-align:center'>km</div>\n",
    "<script type=\"text/javascript\">  \n",
    "\n",
    "  plot = $.plot(\"#placeholder\", \n",
    "   [{ data:  [__ACCEL__], label: \"Gravitational Accel = 0.0m\" }], \n",
    "    { series:{lines:{show: true}},\n",
    "\t  grid:  {hoverable: true},\n",
    "      yaxis: { tickFormatter: function(val, axis) { return val < axis.max ? val.toFixed(2) : \"m/s²\";}}\n",
    "    });\n",
    "\n",
    "  var legends = $(\"#placeholder .legendLabel\");\n",
    "\n",
    "  legends.each(function () {\n",
    "   $(this).css('width', $(this).width());   // fix the widths so they don't jump around\n",
    "  });\n",
    "\n",
    "  var updateLegendTimeout = null;\n",
    "  var latestPosition = null;\n",
    "\n",
    "  function updateLegend() {\n",
    "\n",
    "   updateLegendTimeout = null;\n",
    "   var pos = latestPosition;\n",
    "\n",
    "   var axes = plot.getAxes();\n",
    "   if (pos.x < axes.xaxis.min || pos.x > axes.xaxis.max ||\n",
    "    pos.y < axes.yaxis.min || pos.y > axes.yaxis.max) {\n",
    "    return;\n",
    "   }\n",
    "\n",
    "   var i, j, dataset = plot.getData();\n",
    "   \n",
    "   for (i = 0; i < dataset.length; ++i) {\n",
    "    var series = dataset[i];\n",
    "    \n",
    "    for (j = 0; j < series.data.length; ++j) {// Find the nearest points, x-wise\n",
    "     if (series.data[j][0] > pos.x) {break;}\n",
    "    }\n",
    "\n",
    "    // Now Interpolate\n",
    "    var y,p1 = series.data[j - 1], p2 = series.data[j];\n",
    "\n",
    "    if (p1 == null) {\n",
    "     y = p2[1];\n",
    "    } else if (p2 == null) {\n",
    "     y = p1[1];\n",
    "    } else {\n",
    "     y = p1[1] + (p2[1] - p1[1]) * (pos.x - p1[0]) / (p2[0] - p1[0]);\n",
    "    }\n",
    "\n",
    "    legends.eq(i).text(series.label.replace(/=.*/, \"= \" + y.toFixed(2) + \"m/s² (\" + pos.x.toFixed(1) +\"km)\"));\n",
    "   }\n",
    "  }\n",
    "  \n",
    "  __ANNOTS__\n",
    "\n",
    "  $(\"#placeholder\").bind(\"plothover\",  function (event, pos, item) {\n",
    "   latestPosition = pos;\n",
    "   if (!updateLegendTimeout) {\n",
    "    updateLegendTimeout = setTimeout(updateLegend, 50);\n",
    "   }\n",
    "  }); \n",
    "</script>\n",
    "\"\"\"\n",
    "{Html = flotTemplate.Replace(\"__ACCEL__\",accels_str).Replace(\"__ANNOTS__\", annots_str)}"
   ]
  },
  {
   "cell_type": "markdown",
   "metadata": {
    "code_folding": [
     0
    ],
    "hide_input": false,
    "hide_output": false,
    "run_control": {
     "marked": false
    }
   },
   "source": [
    "## 2.2 Not Falling is Unnatural"
   ]
  },
  {
   "cell_type": "markdown",
   "metadata": {},
   "source": [
    "> There is an art, it says, or rather, a knack to flying. The knack lies in learning how to throw yourself at the ground and miss. Pick a nice day, [The Hitchhiker's Guide to the Galaxy] suggests, and try it.\n",
    "\n",
    ">The first part is easy. All it requires is simply the ability to throw yourself forward with all your weight, and the willingness not to mind that it's going to hurt.\n",
    "\n",
    ">That is, it's going to hurt if you fail to miss the ground. Most people fail to miss the ground, and if they are really trying properly, the likelihood is that they will fail to miss it fairly hard.\n",
    "\n",
    ">Clearly, it is the second part, the missing, which presents the difficulties...\"\n",
    "\n",
    ">--Douglas Adams"
   ]
  },
  {
   "cell_type": "code",
   "execution_count": 17,
   "metadata": {
    "code_folding": [
     0
    ],
    "collapsed": false,
    "format": "row",
    "hide_input": false,
    "hide_output": false,
    "run_control": {
     "marked": false
    }
   },
   "outputs": [
    {
     "data": {
      "text/html": [
       "<div style='border-radius:0.25em;background-color:#FFD954;color:#7F3300;border: 1px solid;font-size:110%;padding:0.2em 0.6em 0.3em'>How can those on the ISS feel ~89% of what we get here on the surface at the\n",
       "same time as experiencing weightlessness? If you're like me, when you asked, you gotten the \n",
       "standard \"because they're in free-fall\". I find that explanation lacking; \n",
       "it fails to elaborate on what about freefall \n",
       "makes one weightless. The <a href='http://physics.stackexchange.com/questions/29929/gravity-on-the-international-space-station'>\n",
       "clearest analogy</a> I've ever run into links freefall to the above quoted passage \n",
       "from THHGTH. Things in orbit around each other are one of the few things able to fall and \n",
       "manage to miss the ground. The key to appreciating free-fall is in realizing that things\n",
       "in orbit and every day falling (ignoring friction and such) are the same thing. \n",
       "Unlike how THHGTH recommends acheiving flight however,for things in orbit, it is not so much \n",
       "that they miss the ground as it's that the ground keeps moving out of \n",
       "the away (it helps to look at it that way instead of as the symmetric situation of \n",
       "horizontal vs vertical velocity).\n",
       "<br/><br/>\n",
       "To fully understand the phenomenon however, we need disentangle the two meanings of weight \n",
       "typically mixed together. There\n",
       "is weight as in the force exerted by participating in a gravitational field \n",
       "and there is the everyday notion of weight\n",
       "we feel. They're related since our weight comes from being party to a gravitational field \n",
       "while something else pushes\n",
       "back just as hard as the Earth is pulling.<br/><br/>\n",
       "The problem arises when we combine our notion of fall (downwards) with the idea that weight \n",
       "has to feel like\n",
       "something. But in fact, just being in a (uniform) gravitational field is \n",
       "not enough to \"feel solid\", you need\n",
       "a counter opposing force resisting your inertia. In the everyday world,\n",
       "this is provided by the Normal Force of say, a chair or the ground\n",
       "pushing back at you, resisting gravity and keeping you from falling. \n",
       "\n",
       "Things that are falling (this includes an apple, a jumper or the moon or the Earth)\n",
       "have no <i>'felt'</i> weight, the reason the ISS and other objects in orbit manage to achieve \n",
       "weightlessness is because the\n",
       "ground manages to move away before they get a chance to hit it. This is something\n",
       "we could all manage without having\n",
       "to move at incredible horizontal velocities if we somehow figured out how to jump\n",
       "and miss the ground by accident.</div>"
      ]
     },
     "execution_count": 17,
     "metadata": {},
     "output_type": "execute_result"
    }
   ],
   "source": [
    "//HIDDENINPUT\n",
    "asideHtm \"How can those on the ISS feel ~89% of what we get here on the surface at the\n",
    "same time as experiencing weightlessness? If you're like me, when you asked, you gotten the \n",
    "standard \\\"because they're in free-fall\\\". I find that explanation lacking; \n",
    "it fails to elaborate on what about freefall \n",
    "makes one weightless. The <a href='http://physics.stackexchange.com/questions/29929/gravity-on-the-international-space-station'>\n",
    "clearest analogy</a> I've ever run into links freefall to the above quoted passage \n",
    "from THHGTH. Things in orbit around each other are one of the few things able to fall and \n",
    "manage to miss the ground. The key to appreciating free-fall is in realizing that things\n",
    "in orbit and every day falling (ignoring friction and such) are the same thing. \n",
    "Unlike how THHGTH recommends acheiving flight however,for things in orbit, it is not so much \n",
    "that they miss the ground as it's that the ground keeps moving out of \n",
    "the away (it helps to look at it that way instead of as the symmetric situation of \n",
    "horizontal vs vertical velocity).\n",
    "<br/><br/>\n",
    "To fully understand the phenomenon however, we need disentangle the two meanings of weight \n",
    "typically mixed together. There\n",
    "is weight as in the force exerted by participating in a gravitational field \n",
    "and there is the everyday notion of weight\n",
    "we feel. They're related since our weight comes from being party to a gravitational field \n",
    "while something else pushes\n",
    "back just as hard as the Earth is pulling.<br/><br/>\n",
    "The problem arises when we combine our notion of fall (downwards) with the idea that weight \n",
    "has to feel like\n",
    "something. But in fact, just being in a (uniform) gravitational field is \n",
    "not enough to \\\"feel solid\\\", you need\n",
    "a counter opposing force resisting your inertia. In the everyday world,\n",
    "this is provided by the Normal Force of say, a chair or the ground\n",
    "pushing back at you, resisting gravity and keeping you from falling. \n",
    "\n",
    "Things that are falling (this includes an apple, a jumper or the moon or the Earth)\n",
    "have no <i>'felt'</i> weight, the reason the ISS and other objects in orbit manage to achieve \n",
    "weightlessness is because the\n",
    "ground manages to move away before they get a chance to hit it. This is something\n",
    "we could all manage without having\n",
    "to move at incredible horizontal velocities if we somehow figured out how to jump\n",
    "and miss the ground by accident.\""
   ]
  },
  {
   "cell_type": "markdown",
   "metadata": {},
   "source": [
    "Even basic physics has a lot of ideas that grind against intuition. For example, the idea that objects in motion will remain in motion, unless acted on by a force, is one. The idea that gravity and the concept of weight as we feel it in the everyday is fictious is another counter-intuitive notion. Orbits combine these two. Firstly, because of a relative lack of friction, a large horizontal velocity can last a long time (meanwhile, we are used to large velocities requiring a continuous application of force). An object can continue to miss the ground without any extra expenditure of energy. Together with the idea of weightlessness as the more natural concept for two objects interacting in gravitational field, orbits as falling becomes a bit clearer to grasp (as you fall you follow the curvature of the earth—it also helps to imagine it as an animation, frame by frame; going down the frame makes it look more like falling—almost like we're unrolling the interaction through time)."
   ]
  },
  {
   "cell_type": "markdown",
   "metadata": {
    "hide_input": false,
    "hide_output": false,
    "run_control": {
     "marked": false
    }
   },
   "source": [
    "# 3. Vector Fields"
   ]
  },
  {
   "cell_type": "markdown",
   "metadata": {},
   "source": [
    "At this point, I can't help but note that I've veered a bit far afield. The original intention of this piece was to connect curried functions from functional programs to fields in physics and yet, here I am talking about how falling is flying with no pesky forces in the way. Nonetheless, I hope the above has been an effective demonstration of the advantage of a computational approach to learning topics commonly thought of as challenging (there'll be more such demonstrations in the below). In reality, much of the difficulty is incidental instead of necessary: for the student, it is grappling with inconsistent and often unmotivated notation, as well as plain general unfamiliarity or counter-intuitiveness and for the teacher: the baggage of being wedded to centuries old tradition of how subjects must be taught. Much pointless complexity arises from the interaction of all those variables.\n",
    "\n",
    "Right, on topic. The real world has more than just one dimension. Depending on whom you ask, it can be anywhere from 3 or 4 to 11 to 26 or more or less. Most real world (classical) problems settle on 3 however. And here, again we see the advantage of a computational approach. It takes only a few lines to generalize our methodology to vectors (and though it's general to N-dimensions, only for 3—or 2 in a few places—does it really makes sense for the operations we're performing)."
   ]
  },
  {
   "cell_type": "code",
   "execution_count": 174,
   "metadata": {
    "code_folding": [],
    "collapsed": false,
    "hide_input": false,
    "hide_output": false,
    "run_control": {
     "marked": false
    }
   },
   "outputs": [
    {
     "data": {
      "text/plain": [
       "\n",
       "val inline cube ∈\n",
       "  r∈ ^a ⟹  ^c\n",
       "    when  ^a ∈ (static member ( ⨯ ) ∈  ^a ⨯  ^a ⟹  ^b) and\n",
       "         ( ^b or  ^a) ∈ (static member ( ⨯ ) ∈  ^b ⨯  ^a ⟹  ^c)\n",
       "val inline squared ∈\n",
       "  r∈ ^a ⟹  ^b when  ^a ∈ (static member ( ⨯ ) ∈  ^a ⨯  ^a ⟹  ^b)\n",
       "val inline vec_mag ∈ v∈float<'u> [] ⟹ float\n",
       "val sum_force_vecs ∈ (float<N> [] [] ⟹ float<N> [])\n"
      ]
     },
     "execution_count": 174,
     "metadata": {},
     "output_type": "execute_result"
    }
   ],
   "source": [
    "//COLLAPSIBLENOOUTPUT [[vector helpers]]\n",
    "[<FunScript.JS>]\n",
    "let inline cube r = r * r * r\n",
    "\n",
    "[<FunScript.JS>]\n",
    "let inline squared r = r * r\n",
    "\n",
    "[<FunScript.JS>]\n",
    "let inline vec_mag (v:float<_> []) = Array.foldBack ((float >> squared >> (+))) v 0. |> sqrt\n",
    "\n",
    "[<FunScript.JS>]\n",
    "let sum_force_vecs = Array.fold (Array.map2 (+)) (Array.init 2 (konst 0.<N>))"
   ]
  },
  {
   "cell_type": "code",
   "execution_count": 11,
   "metadata": {
    "collapsed": false,
    "hide_input": false,
    "hide_output": false,
    "run_control": {
     "marked": false
    },
    "scrolled": true
   },
   "outputs": [
    {
     "data": {
      "text/plain": [
       "\n",
       "val grav_field ∈ m1∈float<kg> ⟹ r∈float<m> [] ⟹ m2∈float<kg> ⟹ float<N> []\n"
      ]
     },
     "execution_count": 11,
     "metadata": {},
     "output_type": "execute_result"
    }
   ],
   "source": [
    "let grav_field (m1:float<kg>) (r:float<m> []) (m2:float<kg>) =        \n",
    "    let mag = vec_mag r * 1.<m>\n",
    "    let scale = (-G * m1 * m2) / cube mag\n",
    "    r |> Array.map (( * ) scale)"
   ]
  },
  {
   "cell_type": "markdown",
   "metadata": {
    "hide_input": false,
    "hide_output": false,
    "run_control": {
     "marked": false
    }
   },
   "source": [
    "The function is the same as before except that, instead of returning a single number, we now return a list of numbers, representing our force vector. The input for distance has also been replaced with a vector. Below, we apply random masses at different locations to get force vectors. Everything is working correctly."
   ]
  },
  {
   "cell_type": "code",
   "execution_count": 89,
   "metadata": {
    "code_folding": [],
    "collapsed": false,
    "hide_input": false,
    "hide_output": false,
    "run_control": {
     "marked": false
    }
   },
   "outputs": [
    {
     "data": {
      "text/plain": [
       "\n",
       "val it ∈ float<N> [] ⨯ float<N> [] =\n",
       "  ([|-0.0001046461073; 0.0; -666.5957035|],\n",
       "   [|-1.538913343e-06; -1.846696011e-05; -9.802877992|])"
      ]
     },
     "execution_count": 89,
     "metadata": {},
     "output_type": "execute_result"
    }
   ],
   "source": [
    "grav_field earth_mass [|1.<m>; 0.<m>; earth_rad|] 68.0<kg> ,\n",
    "grav_field earth_mass [|1.<m>; 12.<m>; earth_rad|] 1.0<kg> "
   ]
  },
  {
   "cell_type": "markdown",
   "metadata": {
    "code_folding": [],
    "hide_input": false,
    "hide_output": false,
    "run_control": {
     "marked": false
    }
   },
   "source": [
    "## 3.1 Finally, On Currying vs Fields"
   ]
  },
  {
   "cell_type": "markdown",
   "metadata": {},
   "source": [
    "The functional way of viewing fields is that they are curried functions; through partial application they can either return more specialized functions or with enough inputs, (e.g.) a vector of forces. For example, the common static field is a function that takes an object of some appropriate type (say, Coulombs or Kg) and returns a function that accepts position vectors which itself returns a function that takes objects (of the same type) and maps them to forces. So by applying (e.g.) a mass, M, to the gravitational field function we specialize to talking about the gravitational field around M. Further specifying a position vector allows us to talk about the force at that distance for various other masses.\n",
    "\n",
    "In short, fields are really functions. And the way they are used makes them the same as using curried functions with partial application."
   ]
  },
  {
   "cell_type": "markdown",
   "metadata": {},
   "source": [
    "### 3.1.1 A quick note on Observables"
   ]
  },
  {
   "cell_type": "markdown",
   "metadata": {
    "code_folding": []
   },
   "source": [
    "In quantum mechanics things known as observables can't be avoided. They have an exact mathematical definition as self adjoint operators but for our purposes we can think of them as functions. This is tricky because whereas before, our field function simply took a vector of reals (such as $\\mathbb{R}^3$) for position, in quantum mechanics, position is an operator and so is instead something like ($ \\mathcal{S} \\rightarrow \\mathbb{R}$ ). Thinking it through, I realized that the most sensible notion of variables as functions are random variables! A quick [search](https://www.encyclopediaofmath.org/index.php/Quantum_probability#Generalization) reveals that indeed, _\"real-valued quantum random variables correspond to self-adjoint operators affiliated with $\\mathcal{A}$ [a von Neumann algebra on operators over a Hilbert Space], as postulated in quantum mechanics_\". One can also apply the notion of Observables to classical mechanics, and there also, they are functions that smell like random variables. And so, measurement can be thought of as an evaluation and hence, computation. Working backwards and having everything fit this way is really nice."
   ]
  },
  {
   "cell_type": "markdown",
   "metadata": {},
   "source": [
    "### 3.1.2 Quantum Field Theory"
   ]
  },
  {
   "cell_type": "markdown",
   "metadata": {},
   "source": [
    "Quantum Field Theory further muddies our picture because there, people talk about fields as if they were a real thing and particles as excitations in this field. If fields are actually curried functions with specializations obtained through partial application, what does it mean for a function to be excited? However, it's worth remembering that at the bottom of it all, there is a computation that's carried out; a fluctuating field suggests that there's a computation unfolding—in other words, evaluating the field gives different values over time. This is also suggestive of another curiosity—fields in physics are actually two different things. There is the field as function and then there is the underlying computation that is eventually evaluated (or calculation or phenomenon*, the 'real' thing).\n",
    "\n",
    "In the classical world, measurement yields simple things like vectors, in the quantum realm we get probability distributions. There exist computations whose outputs are also probability distributions: probabilistic programs. Putting all these together, when a physicist says fields are interacting or oscillating, we can think of a probabilistic program (on noncommuting random variables) whose inputs are curried functions and, in some sense, mutually recursive with other 'fields', all of which unfolds some computation (over time).\n",
    "\n",
    "*_If for whatever reason, you do not like the idea of a computable reality, at the least our only interface with it through testable predictions must be._\n",
    "\n",
    "### 3.1.3 Speculations or, Here be Dragons"
   ]
  },
  {
   "cell_type": "markdown",
   "metadata": {
    "code_folding": [
     0
    ]
   },
   "source": [
    "# 4. Examples by Visualizations of and Interacting with Static Fields"
   ]
  },
  {
   "cell_type": "code",
   "execution_count": 12,
   "metadata": {
    "code_folding": [
     0
    ],
    "collapsed": false
   },
   "outputs": [
    {
     "data": {
      "text/html": [
       "<script>\n",
       "function rangeArray(start,step,end){\n",
       "    var a = Array()\n",
       "    for(x=start; x <=end; x+=step)\n",
       "        a.push(x)\n",
       "    return a;}\n",
       "</script>"
      ]
     },
     "execution_count": 12,
     "metadata": {},
     "output_type": "execute_result"
    }
   ],
   "source": [
    "//HIDDENINPUT range array\n",
    "{Html = \"<script>\n",
    "function rangeArray(start,step,end){\n",
    "    var a = Array()\n",
    "    for(x=start; x <=end; x+=step)\n",
    "        a.push(x)\n",
    "    return a;}\n",
    "</script>\"}"
   ]
  },
  {
   "cell_type": "code",
   "execution_count": 13,
   "metadata": {
    "code_folding": [],
    "collapsed": false,
    "run_control": {
     "marked": false
    },
    "scrolled": true
   },
   "outputs": [
    {
     "data": {
      "text/html": [
       "<script>var TupleDouble______Double______Double______Double______Double_____, FSI_0018__main$, FSI_0018__grav_force$, Array__ZeroCreate$Double___Double___, Array__ZeroCreate$Double_Double, Array__Initialize$Double___Double___, Array__Initialize$Double_Double, Array__Create$Double_Double, Array__Copy$Double_Double, Array__BoxedLength$;\r\n",
       "  Array__BoxedLength$ = (function (xs)\r\n",
       "  {\r\n",
       "    return xs.length;;\r\n",
       "  });\r\n",
       "  Array__Copy$Double_Double = (function (xs)\r\n",
       "  {\r\n",
       "    return xs.slice(0);;\r\n",
       "  });\r\n",
       "  Array__Create$Double_Double = (function (n, x)\r\n",
       "  {\r\n",
       "    var xs = Array__ZeroCreate$Double_Double(0);\r\n",
       "    for (var i = 0; i <= (n - 1); i++)\r\n",
       "    {\r\n",
       "      xs[i] = x;\r\n",
       "      null;\r\n",
       "    };\r\n",
       "    return xs;\r\n",
       "  });\r\n",
       "  Array__Initialize$Double_Double = (function (n, f)\r\n",
       "  {\r\n",
       "    var xs = Array__ZeroCreate$Double_Double(0);\r\n",
       "    for (var i = 0; i <= (n - 1); i++)\r\n",
       "    {\r\n",
       "      xs[i] = f(i);\r\n",
       "      null;\r\n",
       "    };\r\n",
       "    return xs;\r\n",
       "  });\r\n",
       "  Array__Initialize$Double___Double___ = (function (n, f)\r\n",
       "  {\r\n",
       "    var xs = Array__ZeroCreate$Double___Double___(0);\r\n",
       "    for (var i = 0; i <= (n - 1); i++)\r\n",
       "    {\r\n",
       "      xs[i] = f(i);\r\n",
       "      null;\r\n",
       "    };\r\n",
       "    return xs;\r\n",
       "  });\r\n",
       "  Array__ZeroCreate$Double_Double = (function (size)\r\n",
       "  {\r\n",
       "    return new Array(size);;\r\n",
       "  });\r\n",
       "  Array__ZeroCreate$Double___Double___ = (function (size)\r\n",
       "  {\r\n",
       "    return new Array(size);;\r\n",
       "  });\r\n",
       "  FSI_0018__grav_force$ = (function (m1, r, m2)\r\n",
       "  {\r\n",
       "    if ((r == 0.000000)) \r\n",
       "    {\r\n",
       "      return 0.000000;\r\n",
       "    }\r\n",
       "    else\r\n",
       "    {\r\n",
       "      return (((m1 * m2) * 6.674e-11) / (r * r));\r\n",
       "    };\r\n",
       "  });\r\n",
       "  FSI_0018__main$ = (function (unitVar0)\r\n",
       "  {\r\n",
       "    var mass_moon = 73459000000000000000000.000000;\r\n",
       "    var rad_moon = (1737.500000 * 1000.000000);\r\n",
       "    var _6;\r\n",
       "    var m1 = 5960000000000000000000000.000000;\r\n",
       "    _6 = (function (r)\r\n",
       "    {\r\n",
       "      return (function (m2)\r\n",
       "      {\r\n",
       "        return FSI_0018__grav_force$(m1, r, m2);\r\n",
       "      });\r\n",
       "    });\r\n",
       "    var earth_grav = _6;\r\n",
       "    var earth_rad = 6370000.000000;\r\n",
       "    var _23;\r\n",
       "    var _m1 = 1898130000000000000000000000.000000;\r\n",
       "    _23 = (function (r)\r\n",
       "    {\r\n",
       "      return (function (m2)\r\n",
       "      {\r\n",
       "        return FSI_0018__grav_force$(_m1, r, m2);\r\n",
       "      });\r\n",
       "    });\r\n",
       "    var jupiter_grav = _23;\r\n",
       "    var jupiter_rad = 69173000.000000;\r\n",
       "    var masses = rangeArray(10,1000,100000);\r\n",
       "    var radii = rangeArray(0,1000,100000);\r\n",
       "    var xss = Array__Initialize$Double___Double___(Array__BoxedLength$(masses), (function (_arg1)\r\n",
       "    {\r\n",
       "      return Array__Copy$Double_Double(radii);\r\n",
       "    }));\r\n",
       "    var yss = Array__Initialize$Double___Double___(Array__BoxedLength$(masses), (function (m)\r\n",
       "    {\r\n",
       "      return Array__Create$Double_Double(Array__BoxedLength$(radii), masses[m]);\r\n",
       "    }));\r\n",
       "    var zss = Array__Initialize$Double___Double___(Array__BoxedLength$(masses), (function (x)\r\n",
       "    {\r\n",
       "      return Array__Initialize$Double_Double(Array__BoxedLength$(radii), (function (y)\r\n",
       "      {\r\n",
       "        return earth_grav(((xss[x][y] * 1000.000000) + earth_rad))(yss[x][y]);\r\n",
       "      }));\r\n",
       "    }));\r\n",
       "    var zss2 = Array__Initialize$Double___Double___(Array__BoxedLength$(masses), (function (x)\r\n",
       "    {\r\n",
       "      return Array__Initialize$Double_Double(Array__BoxedLength$(radii), (function (y)\r\n",
       "      {\r\n",
       "        return jupiter_grav(((xss[x][y] * 1000.000000) + jupiter_rad))(yss[x][y]);\r\n",
       "      }));\r\n",
       "    }));\r\n",
       "    var zss3 = Array__Initialize$Double___Double___(Array__BoxedLength$(masses), (function (x)\r\n",
       "    {\r\n",
       "      return Array__Initialize$Double_Double(Array__BoxedLength$(radii), (function (y)\r\n",
       "      {\r\n",
       "        return FSI_0018__grav_force$(mass_moon, ((xss[x][y] * 1000.000000) + rad_moon), yss[x][y]);\r\n",
       "      }));\r\n",
       "    }));\r\n",
       "    return (new TupleDouble______Double______Double______Double______Double_____(xss, yss, zss, zss2, zss3));\r\n",
       "  });\r\n",
       "  TupleDouble______Double______Double______Double______Double_____ = (function (Item0, Item1, Item2, Item3, Item4)\r\n",
       "  {\r\n",
       "    this.Items = [Item0, Item1, Item2, Item3, Item4];\r\n",
       "    this.Items = [Item0, Item1, Item2, Item3, Item4];\r\n",
       "    this.Items = [Item0, Item1, Item2, Item3, Item4];\r\n",
       "    this.Items = [Item0, Item1, Item2, Item3, Item4];\r\n",
       "    this.Items = [Item0, Item1, Item2, Item3, Item4];\r\n",
       "  });\r\n",
       "  TupleDouble______Double______Double______Double______Double_____.prototype.CompareTo = (function (that)\r\n",
       "  {\r\n",
       "    var diff = 0.000000;\r\n",
       "    var _diff = 0.000000;\r\n",
       "    var i = 0.000000;\r\n",
       "    while (((_diff == 0.000000) && ((i < this.Items[0.000000].length) && (i < that.Items[0.000000].length))))\r\n",
       "    {\r\n",
       "      var _i = 0.000000;\r\n",
       "      while (((_diff == 0.000000) && ((_i < this.Items[0.000000][i].length) && (_i < that.Items[0.000000][i].length))))\r\n",
       "      {\r\n",
       "        _diff = ((this.Items[0.000000][i][_i] < that.Items[0.000000][i][_i]) ? -1.000000 : ((this.Items[0.000000][i][_i] == that.Items[0.000000][i][_i]) ? 0.000000 : 1.000000));\r\n",
       "        _i = (_i + 1.000000);\r\n",
       "      };\r\n",
       "      _diff = ((_diff == 0.000000) ? (this.Items[0.000000][i].length - that.Items[0.000000][i].length) : _diff);\r\n",
       "      i = (i + 1.000000);\r\n",
       "    };\r\n",
       "    _diff = ((_diff == 0.000000) ? (this.Items[0.000000].length - that.Items[0.000000].length) : _diff);\r\n",
       "    diff = _diff;\r\n",
       "    if ((diff != 0.000000)) \r\n",
       "    {\r\n",
       "      return diff;\r\n",
       "    }\r\n",
       "    else\r\n",
       "    {\r\n",
       "      var __diff = 0.000000;\r\n",
       "      var __i = 0.000000;\r\n",
       "      while (((__diff == 0.000000) && ((__i < this.Items[1.000000].length) && (__i < that.Items[1.000000].length))))\r\n",
       "      {\r\n",
       "        var ___i = 0.000000;\r\n",
       "        while (((__diff == 0.000000) && ((___i < this.Items[1.000000][__i].length) && (___i < that.Items[1.000000][__i].length))))\r\n",
       "        {\r\n",
       "          __diff = ((this.Items[1.000000][__i][___i] < that.Items[1.000000][__i][___i]) ? -1.000000 : ((this.Items[1.000000][__i][___i] == that.Items[1.000000][__i][___i]) ? 0.000000 : 1.000000));\r\n",
       "          ___i = (___i + 1.000000);\r\n",
       "        };\r\n",
       "        __diff = ((__diff == 0.000000) ? (this.Items[1.000000][__i].length - that.Items[1.000000][__i].length) : __diff);\r\n",
       "        __i = (__i + 1.000000);\r\n",
       "      };\r\n",
       "      __diff = ((__diff == 0.000000) ? (this.Items[1.000000].length - that.Items[1.000000].length) : __diff);\r\n",
       "      diff = __diff;\r\n",
       "      if ((diff != 0.000000)) \r\n",
       "      {\r\n",
       "        return diff;\r\n",
       "      }\r\n",
       "      else\r\n",
       "      {\r\n",
       "        var ___diff = 0.000000;\r\n",
       "        var ____i = 0.000000;\r\n",
       "        while (((___diff == 0.000000) && ((____i < this.Items[2.000000].length) && (____i < that.Items[2.000000].length))))\r\n",
       "        {\r\n",
       "          var _____i = 0.000000;\r\n",
       "          while (((___diff == 0.000000) && ((_____i < this.Items[2.000000][____i].length) && (_____i < that.Items[2.000000][____i].length))))\r\n",
       "          {\r\n",
       "            ___diff = ((this.Items[2.000000][____i][_____i] < that.Items[2.000000][____i][_____i]) ? -1.000000 : ((this.Items[2.000000][____i][_____i] == that.Items[2.000000][____i][_____i]) ? 0.000000 : 1.000000));\r\n",
       "            _____i = (_____i + 1.000000);\r\n",
       "          };\r\n",
       "          ___diff = ((___diff == 0.000000) ? (this.Items[2.000000][____i].length - that.Items[2.000000][____i].length) : ___diff);\r\n",
       "          ____i = (____i + 1.000000);\r\n",
       "        };\r\n",
       "        ___diff = ((___diff == 0.000000) ? (this.Items[2.000000].length - that.Items[2.000000].length) : ___diff);\r\n",
       "        diff = ___diff;\r\n",
       "        if ((diff != 0.000000)) \r\n",
       "        {\r\n",
       "          return diff;\r\n",
       "        }\r\n",
       "        else\r\n",
       "        {\r\n",
       "          var ____diff = 0.000000;\r\n",
       "          var ______i = 0.000000;\r\n",
       "          while (((____diff == 0.000000) && ((______i < this.Items[3.000000].length) && (______i < that.Items[3.000000].length))))\r\n",
       "          {\r\n",
       "            var _______i = 0.000000;\r\n",
       "            while (((____diff == 0.000000) && ((_______i < this.Items[3.000000][______i].length) && (_______i < that.Items[3.000000][______i].length))))\r\n",
       "            {\r\n",
       "              ____diff = ((this.Items[3.000000][______i][_______i] < that.Items[3.000000][______i][_______i]) ? -1.000000 : ((this.Items[3.000000][______i][_______i] == that.Items[3.000000][______i][_______i]) ? 0.000000 : 1.000000));\r\n",
       "              _______i = (_______i + 1.000000);\r\n",
       "            };\r\n",
       "            ____diff = ((____diff == 0.000000) ? (this.Items[3.000000][______i].length - that.Items[3.000000][______i].length) : ____diff);\r\n",
       "            ______i = (______i + 1.000000);\r\n",
       "          };\r\n",
       "          ____diff = ((____diff == 0.000000) ? (this.Items[3.000000].length - that.Items[3.000000].length) : ____diff);\r\n",
       "          diff = ____diff;\r\n",
       "          if ((diff != 0.000000)) \r\n",
       "          {\r\n",
       "            return diff;\r\n",
       "          }\r\n",
       "          else\r\n",
       "          {\r\n",
       "            var _____diff = 0.000000;\r\n",
       "            var ________i = 0.000000;\r\n",
       "            while (((_____diff == 0.000000) && ((________i < this.Items[4.000000].length) && (________i < that.Items[4.000000].length))))\r\n",
       "            {\r\n",
       "              var _________i = 0.000000;\r\n",
       "              while (((_____diff == 0.000000) && ((_________i < this.Items[4.000000][________i].length) && (_________i < that.Items[4.000000][________i].length))))\r\n",
       "              {\r\n",
       "                _____diff = ((this.Items[4.000000][________i][_________i] < that.Items[4.000000][________i][_________i]) ? -1.000000 : ((this.Items[4.000000][________i][_________i] == that.Items[4.000000][________i][_________i]) ? 0.000000 : 1.000000));\r\n",
       "                _________i = (_________i + 1.000000);\r\n",
       "              };\r\n",
       "              _____diff = ((_____diff == 0.000000) ? (this.Items[4.000000][________i].length - that.Items[4.000000][________i].length) : _____diff);\r\n",
       "              ________i = (________i + 1.000000);\r\n",
       "            };\r\n",
       "            _____diff = ((_____diff == 0.000000) ? (this.Items[4.000000].length - that.Items[4.000000].length) : _____diff);\r\n",
       "            diff = _____diff;\r\n",
       "            if ((diff != 0.000000)) \r\n",
       "            {\r\n",
       "              return diff;\r\n",
       "            }\r\n",
       "            else\r\n",
       "            {\r\n",
       "              return 0.000000;\r\n",
       "            };\r\n",
       "          };\r\n",
       "        };\r\n",
       "      };\r\n",
       "    };\r\n",
       "  });\r\n",
       "  var patternInput = FSI_0018__main$();\r\n",
       "  var zss3 = patternInput.Items[4.000000];\r\n",
       "  var zss2 = patternInput.Items[3.000000];\r\n",
       "  var zss = patternInput.Items[2.000000];\r\n",
       "  var yss = patternInput.Items[1.000000];\r\n",
       "  var xss = patternInput.Items[0.000000]</script>"
      ]
     },
     "execution_count": 13,
     "metadata": {},
     "output_type": "execute_result"
    }
   ],
   "source": [
    "//COLLAPSIBLE [[Visualize Fields]]\n",
    "[<JSEmitInlineAttribute(\"rangeArray({0},{1},{2})\")>]\n",
    "let inline rangeArray x y z = [||]\n",
    "\n",
    "[<JSEmitInlineAttribute(\"6.674e-11\")>]\n",
    "let getG() = 6.674e-11<N * m^2 / kg^2>\n",
    "\n",
    "[<FunScript.JS>]\n",
    "let grav_force (m1:float< kg>) (r:float<m>) (m2:float<kg>) =        \n",
    "    if r = 0.<m> then 0.<N> \n",
    "    else ((m1 * m2) * getG()) / (r * r)\n",
    "    \n",
    "[<FunScript.JS>]\n",
    "let main() =\n",
    "    \n",
    "    let mass_moon = 7.3459e22<kg> \n",
    " \n",
    "    let rad_moon = 1737.5<m> * 1000.\n",
    "    \n",
    "    let earth_grav = grav_force 5.96e24<kg>\n",
    "    \n",
    "    let earth_rad = 6.37e6<m>\n",
    "\n",
    "    let jupiter_grav = grav_force 1.89813e27<kg>\n",
    "    let jupiter_rad = 6.9173e7<m>\n",
    "    \n",
    "    let masses = rangeArray 10 1000 100000\n",
    "    let radii:float<m>[] = rangeArray 0 1000 100000 \n",
    "\n",
    "    let xss = Array.init masses.Length (fun _ -> Array.copy radii)\n",
    "    let yss = Array.init masses.Length (fun m -> Array.create radii.Length masses.[m])\n",
    "\n",
    "    let zss = Array.init masses.Length (fun x ->  \n",
    "                 Array.init radii.Length (fun y -> \n",
    "                  earth_grav (xss.[x].[y] * 1000. + earth_rad) yss.[x].[y]))\n",
    "\n",
    "    let zss2 = Array.init masses.Length (fun x ->  \n",
    "                 Array.init radii.Length (fun y -> \n",
    "                   jupiter_grav (xss.[x].[y] * 1000. + jupiter_rad) yss.[x].[y]))\n",
    "\n",
    "    let zss3 = Array.init masses.Length (fun x ->  \n",
    "                 Array.init radii.Length (fun y -> \n",
    "                   grav_force mass_moon (xss.[x].[y] * 1000. + rad_moon) yss.[x].[y]))\n",
    "    xss,yss,zss,zss2,zss3\n",
    "                   \n",
    "Compiler.compileWithoutReturn (<@let xss,yss,zss,zss2,zss3 = main() in ()@>) \n",
    "|> embedScript"
   ]
  },
  {
   "cell_type": "code",
   "execution_count": 14,
   "metadata": {
    "code_folding": [
     0
    ],
    "collapsed": false
   },
   "outputs": [
    {
     "data": {
      "text/html": [
       "\n",
       "<script type=\"text/javascript\" src=\"https://cdnjs.cloudflare.com/ajax/libs/d3/3.5.6/d3.js\"></script>\n",
       "\t<script type=\"text/javascript\" src=\"https://cdnjs.cloudflare.com/ajax/libs/three.js/r66/three.min.js\"></script>\n",
       "\t<script type=\"text/javascript\" src=\"elegans.min.js\"></script> \n"
      ]
     },
     "execution_count": 14,
     "metadata": {},
     "output_type": "execute_result"
    }
   ],
   "source": [
    "//HIDDENINPUT include external JS for 3D graphs\n",
    "{Html = \"\"\"\n",
    "<script type=\"text/javascript\" src=\"https://cdnjs.cloudflare.com/ajax/libs/d3/3.5.6/d3.js\"></script>\n",
    "\t<script type=\"text/javascript\" src=\"https://cdnjs.cloudflare.com/ajax/libs/three.js/r66/three.min.js\"></script>\n",
    "\t<script type=\"text/javascript\" src=\"elegans.min.js\"></script> \n",
    "\"\"\"}"
   ]
  },
  {
   "cell_type": "code",
   "execution_count": 15,
   "metadata": {
    "code_folding": [],
    "collapsed": false,
    "run_control": {
     "marked": true
    }
   },
   "outputs": [
    {
     "data": {
      "text/html": [
       "\n",
       "<link rel='stylesheet' href='https://rawgit.com/domitry/elegans/master/examples/common.css'>\n",
       "<div id='visz'>\n",
       "</div>\n",
       "<script type='text/javascript'>         \n",
       "    var data = { };\n",
       "    var data2 = {};\n",
       "    var data3 = {}\n",
       "    data.x = xss\n",
       "    console.log(data.x[0])\n",
       "    data.y = yss\n",
       "    console.log(data.y[0])\n",
       "    data.z = zss\n",
       "    console.log(data.z[0])\n",
       "    \n",
       "    data2.x = xss\n",
       "    data2.y = yss\n",
       "    data2.z = zss2\n",
       "    \n",
       "    data3.x = xss\n",
       "    data3.y = yss\n",
       "    data3.z = zss3\n",
       "    \n",
       "    var stage = new Elegans.Stage(d3.select('#visz')[0][0]);\n",
       "    var sf1 = new Elegans.Surface(data, {fill_colors:['blue', 'green', 'red','orange','yellow']});\n",
       "    var sf2 = new Elegans.Surface(data2,{fill_colors:['blue', 'green', 'red','orange','yellow']});\n",
       "    var sf3 = new Elegans.Surface(data3,{fill_colors:['blue', 'green', 'red','orange','yellow']});\n",
       "    stage.add(sf1);\n",
       "    stage.add(sf2);\n",
       "    stage.add(sf3);\n",
       "    stage.render(); \n",
       "</script>"
      ]
     },
     "execution_count": 15,
     "metadata": {},
     "output_type": "execute_result"
    }
   ],
   "source": [
    "//HIDDENINPUT  Generate Graph\n",
    "let cols = \"{fill_colors:['blue', 'green', 'red','orange','yellow']}\"\n",
    "{Html = String.Format(\"\n",
    "<link rel='stylesheet' href='https://rawgit.com/domitry/elegans/master/examples/common.css'>\n",
    "<div id='visz'>\n",
    "</div>\n",
    "<script type='text/javascript'>         \n",
    "    var data = {{ }};\n",
    "    var data2 = {{}};\n",
    "    var data3 = {{}}\n",
    "    data.x = {0}\n",
    "    console.log(data.x[0])\n",
    "    data.y = {1}\n",
    "    console.log(data.y[0])\n",
    "    data.z = {2}\n",
    "    console.log(data.z[0])\n",
    "    \n",
    "    data2.x = {0}\n",
    "    data2.y = {1}\n",
    "    data2.z = {3}\n",
    "    \n",
    "    data3.x = {0}\n",
    "    data3.y = {1}\n",
    "    data3.z = {5}\n",
    "    \n",
    "    var stage = new Elegans.Stage(d3.select('#visz')[0][0]);\n",
    "    var sf1 = new Elegans.Surface(data, {4});\n",
    "    var sf2 = new Elegans.Surface(data2,{4});\n",
    "    var sf3 = new Elegans.Surface(data3,{4});\n",
    "    stage.add(sf1);\n",
    "    stage.add(sf2);\n",
    "    stage.add(sf3);\n",
    "    stage.render(); \n",
    "</script>\",\"xss\", \"yss\", \"zss\", \"zss2\", cols,\"zss3\")}"
   ]
  },
  {
   "cell_type": "code",
   "execution_count": 57,
   "metadata": {
    "code_folding": [
     0
    ],
    "collapsed": false
   },
   "outputs": [
    {
     "data": {
      "text/html": [
       "<p style = \"border-width:1px;border:solid;border-color:gray;padding:10px\">\n",
       "The graph above is a visualization of a portion of the Moon's, Earth's and Jupiter's gravitational fields. \n",
       "It's not the clearest but stacked like this, we can compare them by zooming in and rotating. \n",
       "The <b>X</b> axis is the distance from the surface, ranging from <b>0-100,000km</b>. \n",
       "The <b>Y's</b> are masses, ranging from <b>10kg - 100,000kg</b>. \n",
       "And the <b>Z</b> axis consists of forces felt in <i>Newtons</i>. \n",
       "Graphed like this, we can sort of get an idea the shape of the different fields.</p>"
      ]
     },
     "execution_count": 57,
     "metadata": {},
     "output_type": "execute_result"
    }
   ],
   "source": [
    "//HIDDENINPUT\n",
    "asHtml \"\"\"<p style = \"border-width:1px;border:solid;border-color:gray;padding:10px\">\n",
    "The graph above is a visualization of a portion of the Moon's, Earth's and Jupiter's gravitational fields. \n",
    "It's not the clearest but stacked like this, we can compare them by zooming in and rotating. \n",
    "The <b>X</b> axis is the distance from the surface, ranging from <b>0-100,000km</b>. \n",
    "The <b>Y's</b> are masses, ranging from <b>10kg - 100,000kg</b>. \n",
    "And the <b>Z</b> axis consists of forces felt in <i>Newtons</i>. \n",
    "Graphed like this, we can sort of get an idea the shape of the different fields.</p>\"\"\""
   ]
  },
  {
   "cell_type": "code",
   "execution_count": 16,
   "metadata": {
    "code_folding": [
     0
    ],
    "collapsed": false
   },
   "outputs": [
    {
     "data": {
      "text/html": [
       "<p style=\"font-size:smaller\">The graphing package I used (Elegans), didn't make it \n",
       "obvious how to label or format axes and I didn't want to waste time hunting for them. Apologies\n",
       "for unclear labelling.</p>"
      ]
     },
     "execution_count": 16,
     "metadata": {},
     "output_type": "execute_result"
    }
   ],
   "source": [
    "//HIDDENINPUT\n",
    "asHtml \"\"\"<p style=\"font-size:smaller\">The graphing package I used (Elegans), didn't make it \n",
    "obvious how to label or format axes and I didn't want to waste time hunting for them. Apologies\n",
    "for unclear labelling.</p>\"\"\""
   ]
  },
  {
   "cell_type": "markdown",
   "metadata": {},
   "source": [
    "## 4.1 Generalizing to Static Fields"
   ]
  },
  {
   "cell_type": "markdown",
   "metadata": {},
   "source": [
    "Looking at the types for a gravitational and electrostatic field makes it clear that both fields can be represented by a single function parameterized by some _Constant_! By looking at the types, the similarity between the two fields is really brought into focus (more so than the similarity between the equations IMO) because the ability to specify both fields with a single function really forces one to take notice of the equivalence."
   ]
  },
  {
   "cell_type": "code",
   "execution_count": 17,
   "metadata": {
    "code_folding": [],
    "collapsed": false
   },
   "outputs": [
    {
     "data": {
      "text/plain": [
       "\n",
       "val static_field ∈\n",
       "  constant:float<'some_constant> ⟹\n",
       "    m1:float<'some_quantity> ⟹\n",
       "      r:float<m> [] ⟹\n",
       "        m2:float<'some_quantity> ⟹\n",
       "          float<'some_constant 'some_quantity²/m²> []"
      ]
     },
     "execution_count": 17,
     "metadata": {},
     "output_type": "execute_result"
    }
   ],
   "source": [
    "[<FunScript.JS>]\n",
    "let static_field (constant:float<'some_constant>)\n",
    "                 (m1:float<'some_quantity>) \n",
    "                 (r:float<m> []) \n",
    "                 (m2:float<'some_quantity>) =        \n",
    "    let mag = vec_mag r * 1.<m>  \n",
    "    let scale = (constant * m1 * m2) / cube mag\n",
    "    r |> Array.map (( * ) scale)"
   ]
  },
  {
   "cell_type": "markdown",
   "metadata": {},
   "source": [
    "The type tells us that essentially, a static field is _'some_constant * 'some_quantity²/m²_, capturing the inverse square aspect of the relationship. We can then write the gravitational field in terms of static field and all the types work out and the function works as it should:"
   ]
  },
  {
   "cell_type": "code",
   "execution_count": 18,
   "metadata": {
    "collapsed": false
   },
   "outputs": [
    {
     "data": {
      "text/plain": [
       "\n",
       "val gravitational_field ∈\n",
       "  m∈float<kg> ⟹ r∈float<m> [] ⟹ m2∈float<kg> ⟹ float<N> []\n",
       "val it ∈ float<N> [] = [|-1.538913343e-05; -7.694566713e-06; -9.802877992|]\n"
      ]
     },
     "execution_count": 18,
     "metadata": {},
     "output_type": "execute_result"
    }
   ],
   "source": [
    "let gravitational_field (m:float<kg>) (r:float<m> []) (m2:float<kg>) = static_field -G m r m2\n",
    "\n",
    "gravitational_field earth_mass [|10.<m>; 5.<m>;earth_rad|] 1.<kg>"
   ]
  },
  {
   "cell_type": "code",
   "execution_count": 19,
   "metadata": {
    "collapsed": false,
    "run_control": {
     "marked": false
    }
   },
   "outputs": [
    {
     "data": {
      "text/plain": [
       "\n",
       "val k ∈ float<N m²/C²> = 9000000000.0\n",
       "val electric_field ∈ q∈float<C> ⟹ r∈float<m> [] ⟹ q2∈float<C> ⟹ float<N> []\n",
       "val it ∈ bool = true\n"
      ]
     },
     "execution_count": 19,
     "metadata": {},
     "output_type": "execute_result"
    }
   ],
   "source": [
    "[<Measure>] type C\n",
    "\n",
    "let k = 9e9<N * m ^2 / C^2> \n",
    " \n",
    "let electric_field (q:float<C>) (r:float<m> []) (q2:float<C>) = static_field k q r q2\n",
    "                                                                                 \n",
    "electric_field 1.0<C> [| 1.0<m> |] 1.0<C> = [| 9e9<N> |]"
   ]
  },
  {
   "cell_type": "code",
   "execution_count": 70,
   "metadata": {
    "collapsed": false
   },
   "outputs": [
    {
     "data": {
      "text/plain": [
       "\n",
       "val it ∈ float<N m²/kg²> ⨯ float<N m²/C²> ⨯ float =\n",
       "  (6.674e-11, 9000000000.0, 20.12985631)"
      ]
     },
     "execution_count": 70,
     "metadata": {},
     "output_type": "execute_result"
    }
   ],
   "source": [
    "G,k, log10 (float k) - log10 (float G)"
   ]
  },
  {
   "cell_type": "markdown",
   "metadata": {},
   "source": [
    "We can define electric fields in the same manner. From that, it's clear that mass and charge are similar abstractions. The difference between the two fields is that 1) the applied constants have opposite signs and differ by some 20 orders of magnitude, 2) charges are like masses that are allowed to go negative. That opposite attracts is a mere fact of arithmetic, what is more fundamental is that charges are less restricted in that they can be negative."
   ]
  },
  {
   "cell_type": "code",
   "execution_count": 186,
   "metadata": {
    "code_folding": [],
    "collapsed": false
   },
   "outputs": [
    {
     "data": {
      "text/plain": [
       "\n",
       "  val inline to_cm ∈\n",
       "    d∈ ^a ⟹ float<m> when  ^a ∈ (static member op_Explicit ∈  ^a ⟹ float)\n",
       "  val inline micro_coulombs ∈\n",
       "    c∈ ^a ⟹ float<C> when  ^a ∈ (static member op_Explicit ∈  ^a ⟹ float)\n",
       "  val inline sub ∈\n",
       "    a∈ ^a [] ⟹ b∈ ^b [] ⟹  ^c []\n",
       "      when ( ^a or  ^b) ∈ (static member ( - ) ∈  ^a ⨯  ^b ⟹  ^c)\n",
       "  val inline cm_list ∈\n",
       "    l∈seq< ^a> ⟹ float<m> []\n",
       "      when  ^a ∈ (static member op_Explicit ∈  ^a ⟹ float)\n",
       "  val inline nano_coulombs ∈\n",
       "    c: ^a ⟹ float<C> when  ^a : (static member op_Explicit :  ^a ⟹ float)\n",
       "end"
      ]
     },
     "execution_count": 186,
     "metadata": {},
     "output_type": "execute_result"
    }
   ],
   "source": [
    "//HIDDEN Helper functions\n",
    "[<FunScript.JS>]\n",
    "module VecHelp = \n",
    "    let inline to_cm d = float d * 0.01<m>\n",
    "\n",
    "    let inline micro_coulombs c = 1e-6<C> * float c\n",
    "\n",
    "    let inline sub a b = Array.map2 (-) a b\n",
    "\n",
    "    let inline cm_list l = Seq.map to_cm l |> Seq.toArray\n",
    "\n",
    "    let inline nano_coulombs c = 1e-9<C> * float c\n"
   ]
  },
  {
   "cell_type": "code",
   "execution_count": 236,
   "metadata": {
    "code_folding": [],
    "collapsed": true
   },
   "outputs": [],
   "source": [
    "//HIDDEN\n",
    "open VecHelp"
   ]
  },
  {
   "cell_type": "code",
   "execution_count": 252,
   "metadata": {
    "code_folding": [
     0
    ],
    "collapsed": false
   },
   "outputs": [
    {
     "data": {
      "text/plain": [
       "\n",
       "  val electric_field ∈\n",
       "    q∈float<C> ⟹ r∈float<m> [] ⟹ q2∈float<C> ⟹ float<N> []\n",
       "  val eforce_on_q ∈\n",
       "    r∈float<m> [] ⨯ q∈float<C> ⟹ r'∈float<m> [] ⨯ q'∈float<C> ⟹ float<N> []\n",
       "  val efield_force ∈\n",
       "    float<m> [] ⨯ float<C> ⟹ qs∈(float<m> [] ⨯ float<C>) [] ⟹ float<N> []\n",
       "  val efield_sum ∈\n",
       "    qs:(float<m> [] ⨯ float<C>) [] ⟹ r:float<m> [] ⟹ float<N/C> []\n",
       "end"
      ]
     },
     "execution_count": 252,
     "metadata": {},
     "output_type": "execute_result"
    }
   ],
   "source": [
    "//Electrostatic fields\n",
    "[<FunScript.JS>]\n",
    "module ElectorstaticFields = \n",
    "    let electric_field (q:float<C>) (r:float<m> []) (q2:float<C>) = static_field k q r q2\n",
    "    \n",
    "    let eforce_on_q (r,q) (r', q') = electric_field q (sub r r') q'\n",
    " \n",
    "    let efield_force charge qs = qs |> Array.map (eforce_on_q charge) |> sum_force_vecs\n",
    "    \n",
    "    let efield_sum qs r = total_efield_force (r,1.0<C>) qs |> Array.map (flip (/) 1.<C>)\n",
    "   "
   ]
  },
  {
   "cell_type": "markdown",
   "metadata": {},
   "source": [
    "At this point, it's instructive to highlight an example of the unnecessary obtuseness that abounds in physics equations. Given some test charge q, and a set of discrete charges, the electric field felt by q is given by: $$F(r) = q \\cdot k \\sum\\limits_{i=1}^n {q_i\\frac{r-r_i}{|r-r_i|^3}}$$\n",
    "\n",
    "The problem of course, is that the Equation does not make clear that the function $F$ should take a pair of variables: the charge and its vector. It's assumed implicity, and thus one more thing to be confused about. The same function is given by `efield_force` where the type makes it clear that the field is parameterized by both a position vector _and_ a charge."
   ]
  },
  {
   "cell_type": "code",
   "execution_count": 229,
   "metadata": {
    "code_folding": [],
    "collapsed": false
   },
   "outputs": [
    {
     "data": {
      "text/plain": [
       "\n",
       "val rad2deg ∈ r∈float ⟹ float\n",
       "val clampAngle ∈ r∈float ⟹ float\n"
      ]
     },
     "execution_count": 229,
     "metadata": {},
     "output_type": "execute_result"
    }
   ],
   "source": [
    "//HIDDEN\n",
    "open Prelude.Math\n",
    "let rad2deg r = r * 180./pi \n",
    "let clampAngle r = let a = r % (2. * pi) in if a < 0. then a + 2. * pi else a"
   ]
  },
  {
   "cell_type": "code",
   "execution_count": 178,
   "metadata": {
    "code_folding": [
     0
    ],
    "collapsed": false,
    "run_control": {
     "marked": false
    }
   },
   "outputs": [
    {
     "data": {
      "text/plain": [
       "\n",
       "val wc ∈ Net.WebClient = System.Net.WebClient\n",
       "val queryWolfram ∈ q∈string ⟹ Map<string,string []>\n"
      ]
     },
     "execution_count": 178,
     "metadata": {},
     "output_type": "execute_result"
    }
   ],
   "source": [
    "//HIDDEN wolfram alpha, prelude\n",
    "#r @\"C:\\Users\\sir.deenicus\\Documents\\Visual Studio 2012\\Projects\\prelude\\prelude\\bin\\release\\prelude.dll\"\n",
    "#r @\"C:\\Users\\sir.deenicus\\Documents\\Visual Studio 2012\\open\\FSharp.Data.2\\bin\\Fsharp.Data.dll\"\n",
    "\n",
    "#time \"on\"\n",
    "   \n",
    "open FSharp.Data\n",
    "open System \n",
    "open Prelude.Common \n",
    "\n",
    "type Wolfram = FSharp.Data.XmlProvider<\"\"\"C:\\Users\\sir.deenicus\\Documents\\wolfram.xml\"\"\"> \n",
    "let wc = new Net.WebClient()\n",
    "let queryWolfram q = \n",
    "    let url = urlencode q\n",
    "    let r = wc.DownloadData(\"http://api.wolframalpha.com/v2/query?appid=QJ8478-EVP62RGYVR&input=\"+url+\"&format=plaintext\")\n",
    "    let w = Wolfram.Parse (r |> String.DecodeFromUtf8Bytes)\n",
    "            \n",
    "    w.Pods |> Array.map (fun p -> \n",
    "                p.Title, \n",
    "                p.Subpods |> Array.map (fun sp -> sp.Plaintext)) \n",
    "             |> Map.ofArray\n",
    "                                       "
   ]
  },
  {
   "cell_type": "code",
   "execution_count": null,
   "metadata": {
    "collapsed": true
   },
   "outputs": [],
   "source": [
    "click field\n",
    "animate gravity\n",
    "electric and grave of proton\n",
    "negative mass"
   ]
  },
  {
   "cell_type": "code",
   "execution_count": 113,
   "metadata": {
    "collapsed": false
   },
   "outputs": [
    {
     "data": {
      "text/plain": [
       "\n",
       "val mass_inf ∈ Map<string,string []> =\n",
       "  map\n",
       "    [(\"Additional conversion\", [|\"1.672622×10^-24 grams\"|]);\n",
       "     (\"Comparisons as mass\",\n",
       "      [|\" ≈ 0.5 × deuteron mass (≈ 3.3×10^-27 kg )\";\n",
       "        \" ≈ 0.53 × tau particle mass (≈ 1777 MeV/c^2 )\";\n",
       "        \" ≈ 1.007 × unified atomic mass unit ( 1.660539×10^-27 kg )\"|]);\n",
       "     (\"Corresponding quantities\",\n",
       "      [|\"Relativistic energy E from Emc^2∈\n",
       "  | 938 MeV  (megaelectronvolts)\";\n",
       "        \"Characteristic length L from Lh/(mc)∈\n",
       "  | 1.3 fm  (femtometers)\";\n",
       "        \"Thermal de Broglie wavelength at 100 K from λh/(2πmkT)^(1/2)\"+[26 chars];\n",
       "        \"Characteristic time T from Th/(mc^2)∈\n",
       "  | 4.4×10^-24 seconds\";\n",
       "        \"Thermodynamic temperature T from kTmc^2∈\n",
       "  | 1.089×10^13 K  (kelvins)\";\n",
       "        \"Compton frequency ν from νmc^2/h∈\n",
       "  | 2.269×10^23 Hz  (hertz)\"|]);\n",
       "     (\"Input interpretation\", [|\"convert p  (proton) | mass to kilograms\"|]);\n",
       "     (\"Result\", [|\"1.672622×10^-27 kg  (kilograms)\"|])]\n",
       "val c_inf ∈ Map<string,string []> =\n",
       "  map\n",
       "    [(\"Additional conversions\",\n",
       "      [|\"0.16021766 aC  (attocoulombs)\";\n",
       "        \"1.6021766×10^-20 abC  (abcoulombs)\n",
       " (unit officially deprecated)\";\n",
       "        \"4.803205×10^-10 statC  (statcoulombs)\n",
       " (unit officially deprecated)\";\n",
       "        \"4.803205×10^-10 Fr  (franklins)\";\n",
       "        \"4.803205×10^-10 esus of charge\n",
       " (unit officially deprecated)\"|]);\n",
       "     (\"Comparison as electric charge\",\n",
       "      [|\" ≈ (0.001 to 0.01) × typical year 2005 CMOS charge under the \"+[22 chars]|]);\n",
       "     (\"Corresponding quantities\",\n",
       "      [|\"Current I caused by the charge flowing in one second from IQ\"+[31 chars];\n",
       "        \"Force F between like charges 1 cm apart from FQ^2/(4πϵ_0r^2)\"+[29 chars]|]);\n",
       "     (\"Input interpretation\",\n",
       "      [|\"convert p  (proton) | electric charge  (q) to coulombs\"|]);\n",
       "     (\"Result\", [|\"1.6021766×10^-19 C  (coulombs)\"|])]\n",
       "val it ∈ string [] ⨯ string [] =\n",
       "  ([|\"1.672622×10^-27 kg  (kilograms)\"|], [|\"1.6021766×10^-19 C  (coulombs)\"|])"
      ]
     },
     "execution_count": 113,
     "metadata": {},
     "output_type": "execute_result"
    }
   ],
   "source": [
    "let mass_inf, c_inf = queryWolfram \"mass of proton to kg\", queryWolfram \"charge of proton in Coulombs\"\n",
    "mass_inf.[\"Result\"], c_inf.[\"Result\"]"
   ]
  },
  {
   "cell_type": "code",
   "execution_count": 255,
   "metadata": {
    "collapsed": false
   },
   "outputs": [
    {
     "data": {
      "text/plain": [
       "\n",
       "val it ∈ float<N/C> [] = [|0.0; 38971.14317|]\n"
      ]
     },
     "execution_count": 255,
     "metadata": {},
     "output_type": "execute_result"
    }
   ],
   "source": [
    "open ElectorstaticFields\n",
    "\n",
    "efield_sum charge_density (cm_list [|1.; sqrt 3.|]) //|> Array.map ((*) (-2. |> nano_coulombs))"
   ]
  },
  {
   "cell_type": "code",
   "execution_count": 274,
   "metadata": {
    "code_folding": [],
    "collapsed": false,
    "scrolled": true
   },
   "outputs": [
    {
     "data": {
      "text/html": [
       "<table><tr><td>0</td>\n",
       "<td>0</td>\n",
       "<td>NaN</td>\n",
       "<td>NaN</td></tr>\n",
       "<tr><td>0</td>\n",
       "<td>1</td>\n",
       "<td>-16099.6894379985</td>\n",
       "<td>98049.8447189992</td></tr>\n",
       "<tr><td>0</td>\n",
       "<td>2</td>\n",
       "<td>-7954.95128834866</td>\n",
       "<td>30454.9512883487</td></tr>\n",
       "<tr><td>0</td>\n",
       "<td>3</td>\n",
       "<td>-3840.23212771313</td>\n",
       "<td>15760.3481915697</td></tr>\n",
       "<tr><td>0</td>\n",
       "<td>4</td>\n",
       "<td>-2012.46117974981</td>\n",
       "<td>9649.92235949962</td></tr>\n",
       "<tr><td>0</td>\n",
       "<td>5</td>\n",
       "<td>-1152.59175420239</td>\n",
       "<td>6481.47938550598</td></tr>\n",
       "<tr><td>0</td>\n",
       "<td>6</td>\n",
       "<td>-711.512473537886</td>\n",
       "<td>4634.53742061366</td></tr>\n",
       "<tr><td>0</td>\n",
       "<td>7</td>\n",
       "<td>-466.507575674793</td>\n",
       "<td>3469.51120873933</td></tr>\n",
       "<tr><td>0</td>\n",
       "<td>8</td>\n",
       "<td>-321.003033136323</td>\n",
       "<td>2690.26213254529</td></tr>\n",
       "<tr><td>0</td>\n",
       "<td>9</td>\n",
       "<td>-229.691072984459</td>\n",
       "<td>2144.72093954118</td></tr>\n",
       "<tr><td>1</td>\n",
       "<td>0</td>\n",
       "<td>0</td>\n",
       "<td>0</td></tr>\n",
       "<tr><td>1</td>\n",
       "<td>1</td>\n",
       "<td>0</td>\n",
       "<td>63639.6103067893</td></tr>\n",
       "<tr><td>1</td>\n",
       "<td>2</td>\n",
       "<td>0</td>\n",
       "<td>32199.378875997</td></tr>\n",
       "<tr><td>1</td>\n",
       "<td>3</td>\n",
       "<td>0</td>\n",
       "<td>17076.2993649093</td></tr>\n",
       "<tr><td>1</td>\n",
       "<td>4</td>\n",
       "<td>0</td>\n",
       "<td>10272.0970603623</td></tr>\n",
       "<tr><td>1</td>\n",
       "<td>5</td>\n",
       "<td>0</td>\n",
       "<td>6788.63544709098</td></tr>\n",
       "<tr><td>1</td>\n",
       "<td>6</td>\n",
       "<td>0</td>\n",
       "<td>4798.67314296719</td></tr>\n",
       "<tr><td>1</td>\n",
       "<td>7</td>\n",
       "<td>0</td>\n",
       "<td>3563.8181771802</td></tr>\n",
       "<tr><td>1</td>\n",
       "<td>8</td>\n",
       "<td>0</td>\n",
       "<td>2747.84642782246</td></tr>\n",
       "<tr><td>1</td>\n",
       "<td>9</td>\n",
       "<td>0</td>\n",
       "<td>2181.69600294209</td></tr>\n",
       "<tr><td>2</td>\n",
       "<td>0</td>\n",
       "<td>NaN</td>\n",
       "<td>NaN</td></tr>\n",
       "<tr><td>2</td>\n",
       "<td>1</td>\n",
       "<td>16099.6894379985</td>\n",
       "<td>98049.8447189992</td></tr>\n",
       "<tr><td>2</td>\n",
       "<td>2</td>\n",
       "<td>7954.95128834866</td>\n",
       "<td>30454.9512883487</td></tr>\n",
       "<tr><td>2</td>\n",
       "<td>3</td>\n",
       "<td>3840.23212771313</td>\n",
       "<td>15760.3481915697</td></tr>\n",
       "<tr><td>2</td>\n",
       "<td>4</td>\n",
       "<td>2012.46117974981</td>\n",
       "<td>9649.92235949962</td></tr>\n",
       "<tr><td>2</td>\n",
       "<td>5</td>\n",
       "<td>1152.59175420239</td>\n",
       "<td>6481.47938550598</td></tr>\n",
       "<tr><td>2</td>\n",
       "<td>6</td>\n",
       "<td>711.512473537886</td>\n",
       "<td>4634.53742061366</td></tr>\n",
       "<tr><td>2</td>\n",
       "<td>7</td>\n",
       "<td>466.507575674793</td>\n",
       "<td>3469.51120873933</td></tr>\n",
       "<tr><td>2</td>\n",
       "<td>8</td>\n",
       "<td>321.003033136323</td>\n",
       "<td>2690.26213254529</td></tr>\n",
       "<tr><td>2</td>\n",
       "<td>9</td>\n",
       "<td>229.691072984459</td>\n",
       "<td>2144.72093954118</td></tr>\n",
       "<tr><td>3</td>\n",
       "<td>0</td>\n",
       "<td>100000</td>\n",
       "<td>0</td></tr>\n",
       "<tr><td>3</td>\n",
       "<td>1</td>\n",
       "<td>40357.9548358493</td>\n",
       "<td>34665.8550475462</td></tr>\n",
       "<tr><td>3</td>\n",
       "<td>2</td>\n",
       "<td>13810.1929105689</td>\n",
       "<td>19939.9215657116</td></tr>\n",
       "<tr><td>3</td>\n",
       "<td>3</td>\n",
       "<td>6381.58380008428</td>\n",
       "<td>12073.6835883874</td></tr>\n",
       "<tr><td>3</td>\n",
       "<td>4</td>\n",
       "<td>3444.01213254529</td>\n",
       "<td>8016.04853018117</td></tr>\n",
       "<tr><td>3</td>\n",
       "<td>5</td>\n",
       "<td>2040.76407378196</td>\n",
       "<td>5664.15193866693</td></tr>\n",
       "<tr><td>3</td>\n",
       "<td>6</td>\n",
       "<td>1294.31661958051</td>\n",
       "<td>4188.19095348342</td></tr>\n",
       "<tr><td>3</td>\n",
       "<td>7</td>\n",
       "<td>865.812525229313</td>\n",
       "<td>3208.16861792846</td></tr>\n",
       "<tr><td>3</td>\n",
       "<td>8</td>\n",
       "<td>604.632316025962</td>\n",
       "<td>2528.30165201005</td></tr>\n",
       "<tr><td>3</td>\n",
       "<td>9</td>\n",
       "<td>437.433099513621</td>\n",
       "<td>2039.53129952156</td></tr>\n",
       "<tr><td>4</td>\n",
       "<td>0</td>\n",
       "<td>28125</td>\n",
       "<td>0</td></tr>\n",
       "<tr><td>4</td>\n",
       "<td>1</td>\n",
       "<td>21235.7379681797</td>\n",
       "<td>9333.85685154453</td></tr>\n",
       "<tr><td>4</td>\n",
       "<td>2</td>\n",
       "<td>11979.8736478483</td>\n",
       "<td>9967.41246809847</td></tr>\n",
       "<tr><td>4</td>\n",
       "<td>3</td>\n",
       "<td>6720.23212771313</td>\n",
       "<td>7920.34819156969</td></tr>\n",
       "<tr><td>4</td>\n",
       "<td>4</td>\n",
       "<td>4001.19900183698</td>\n",
       "<td>6013.66018158679</td></tr>\n",
       "<tr><td>4</td>\n",
       "<td>5</td>\n",
       "<td>2523.87356590722</td>\n",
       "<td>4595.58165013702</td></tr>\n",
       "<tr><td>4</td>\n",
       "<td>6</td>\n",
       "<td>1671.57050546617</td>\n",
       "<td>3574.62446850608</td></tr>\n",
       "<tr><td>4</td>\n",
       "<td>7</td>\n",
       "<td>1153.46918263041</td>\n",
       "<td>2834.9593270341</td></tr>\n",
       "<tr><td>4</td>\n",
       "<td>8</td>\n",
       "<td>824.118328073776</td>\n",
       "<td>2290.2427224202</td></tr>\n",
       "<tr><td>4</td>\n",
       "<td>9</td>\n",
       "<td>606.520577570133</td>\n",
       "<td>1881.47621374783</td></tr>\n",
       "<tr><td>5</td>\n",
       "<td>0</td>\n",
       "<td>13600</td>\n",
       "<td>0</td></tr>\n",
       "<tr><td>5</td>\n",
       "<td>1</td>\n",
       "<td>11932.4674060001</td>\n",
       "<td>3524.91343886064</td></tr>\n",
       "<tr><td>5</td>\n",
       "<td>2</td>\n",
       "<td>8641.82757707566</td>\n",
       "<td>4992.82388191551</td></tr>\n",
       "<tr><td>5</td>\n",
       "<td>3</td>\n",
       "<td>5805.36812105418</td>\n",
       "<td>4897.4344350056</td></tr>\n",
       "<tr><td>5</td>\n",
       "<td>4</td>\n",
       "<td>3874.10226463104</td>\n",
       "<td>4251.28181170483</td></tr>\n",
       "<tr><td>5</td>\n",
       "<td>5</td>\n",
       "<td>2634.69273520865</td>\n",
       "<td>3542.62642125723</td></tr>\n",
       "<tr><td>5</td>\n",
       "<td>6</td>\n",
       "<td>1838.96155116062</td>\n",
       "<td>2922.29561419268</td></tr>\n",
       "<tr><td>5</td>\n",
       "<td>7</td>\n",
       "<td>1318.16540068754</td>\n",
       "<td>2415.93537269791</td></tr>\n",
       "<tr><td>5</td>\n",
       "<td>8</td>\n",
       "<td>968.845898559937</td>\n",
       "<td>2011.90481293543</td></tr>\n",
       "<tr><td>5</td>\n",
       "<td>9</td>\n",
       "<td>728.566103810016</td>\n",
       "<td>1690.89230607823</td></tr>\n",
       "<tr><td>6</td>\n",
       "<td>0</td>\n",
       "<td>8125</td>\n",
       "<td>0</td></tr>\n",
       "<tr><td>6</td>\n",
       "<td>1</td>\n",
       "<td>7535.38510166476</td>\n",
       "<td>1683.90156112589</td></tr>\n",
       "<tr><td>6</td>\n",
       "<td>2</td>\n",
       "<td>6159.45978011328</td>\n",
       "<td>2723.9736532877</td></tr>\n",
       "<tr><td>6</td>\n",
       "<td>3</td>\n",
       "<td>4668.85438199983</td>\n",
       "<td>3054.42719099992</td></tr>\n",
       "<tr><td>6</td>\n",
       "<td>4</td>\n",
       "<td>3428.82486997959</td>\n",
       "<td>2948.79585401545</td></tr>\n",
       "<tr><td>6</td>\n",
       "<td>5</td>\n",
       "<td>2504.72304389768</td>\n",
       "<td>2658.63662479175</td></tr>\n",
       "<tr><td>6</td>\n",
       "<td>6</td>\n",
       "<td>1843.94150841147</td>\n",
       "<td>2323.97052437561</td></tr>\n",
       "<tr><td>6</td>\n",
       "<td>7</td>\n",
       "<td>1376.03482590899</td>\n",
       "<td>2006.10156761794</td></tr>\n",
       "<tr><td>6</td>\n",
       "<td>8</td>\n",
       "<td>1043.11529493745</td>\n",
       "<td>1726.23058987491</td></tr>\n",
       "<tr><td>6</td>\n",
       "<td>9</td>\n",
       "<td>803.521963220465</td>\n",
       "<td>1487.90507326995</td></tr>\n",
       "<tr><td>7</td>\n",
       "<td>0</td>\n",
       "<td>5436.73469387755</td>\n",
       "<td>0</td></tr>\n",
       "<tr><td>7</td>\n",
       "<td>1</td>\n",
       "<td>5176.22681213559</td>\n",
       "<td>933.421985936255</td></tr>\n",
       "<tr><td>7</td>\n",
       "<td>2</td>\n",
       "<td>4514.25590036775</td>\n",
       "<td>1619.09932987718</td></tr>\n",
       "<tr><td>7</td>\n",
       "<td>3</td>\n",
       "<td>3696.09374445981</td>\n",
       "<td>1973.15461307502</td></tr>\n",
       "<tr><td>7</td>\n",
       "<td>4</td>\n",
       "<td>2916.28507680337</td>\n",
       "<td>2058.24341866045</td></tr>\n",
       "<tr><td>7</td>\n",
       "<td>5</td>\n",
       "<td>2262.46804949533</td>\n",
       "<td>1979.70352282117</td></tr>\n",
       "<tr><td>7</td>\n",
       "<td>6</td>\n",
       "<td>1748.45311560632</td>\n",
       "<td>1822.51445114623</td></tr>\n",
       "<tr><td>7</td>\n",
       "<td>7</td>\n",
       "<td>1356.29509532609</td>\n",
       "<td>1639.05962200025</td></tr>\n",
       "<tr><td>7</td>\n",
       "<td>8</td>\n",
       "<td>1060.42668080533</td>\n",
       "<td>1456.92374230226</td></tr>\n",
       "<tr><td>7</td>\n",
       "<td>9</td>\n",
       "<td>837.374147149662</td>\n",
       "<td>1288.68362005749</td></tr>\n",
       "<tr><td>8</td>\n",
       "<td>0</td>\n",
       "<td>3906.25</td>\n",
       "<td>0</td></tr>\n",
       "<tr><td>8</td>\n",
       "<td>1</td>\n",
       "<td>3773.25978539482</td>\n",
       "<td>571.629830319503</td></tr>\n",
       "<tr><td>8</td>\n",
       "<td>2</td>\n",
       "<td>3418.54955315895</td>\n",
       "<td>1032.51550667421</td></tr>\n",
       "<tr><td>8</td>\n",
       "<td>3</td>\n",
       "<td>2943.23282009865</td>\n",
       "<td>1327.31910528697</td></tr>\n",
       "<tr><td>8</td>\n",
       "<td>4</td>\n",
       "<td>2446.31763776733</td>\n",
       "<td>1463.17332686573</td></tr>\n",
       "<tr><td>8</td>\n",
       "<td>5</td>\n",
       "<td>1990.96760702945</td>\n",
       "<td>1480.48834443359</td></tr>\n",
       "<tr><td>8</td>\n",
       "<td>6</td>\n",
       "<td>1603.88347648318</td>\n",
       "<td>1423.88347648318</td></tr>\n",
       "<tr><td>8</td>\n",
       "<td>7</td>\n",
       "<td>1288.47058641903</td>\n",
       "<td>1328.39145197806</td></tr>\n",
       "<tr><td>8</td>\n",
       "<td>8</td>\n",
       "<td>1037.18445552179</td>\n",
       "<td>1217.18445552179</td></tr>\n",
       "<tr><td>8</td>\n",
       "<td>9</td>\n",
       "<td>839.056220667156</td>\n",
       "<td>1103.9479202386</td></tr>\n",
       "<tr><td>9</td>\n",
       "<td>0</td>\n",
       "<td>2947.84580498866</td>\n",
       "<td>0</td></tr>\n",
       "<tr><td>9</td>\n",
       "<td>1</td>\n",
       "<td>2872.75709006114</td>\n",
       "<td>375.76377472394</td></tr>\n",
       "<tr><td>9</td>\n",
       "<td>2</td>\n",
       "<td>2666.38634329184</td>\n",
       "<td>696.198648659253</td></tr>\n",
       "<tr><td>9</td>\n",
       "<td>3</td>\n",
       "<td>2374.94282738888</td>\n",
       "<td>927.481850018995</td></tr>\n",
       "<tr><td>9</td>\n",
       "<td>4</td>\n",
       "<td>2050.04919749009</td>\n",
       "<td>1063.79111154129</td></tr>\n",
       "<tr><td>9</td>\n",
       "<td>5</td>\n",
       "<td>1731.88485138726</td>\n",
       "<td>1119.24965447857</td></tr>\n",
       "<tr><td>9</td>\n",
       "<td>6</td>\n",
       "<td>1443.9574433978</td>\n",
       "<td>1115.76567758817</td></tr>\n",
       "<tr><td>9</td>\n",
       "<td>7</td>\n",
       "<td>1195.85839067047</td>\n",
       "<td>1074.41958799719</td></tr>\n",
       "<tr><td>9</td>\n",
       "<td>8</td>\n",
       "<td>988.381928818857</td>\n",
       "<td>1011.76112949802</td></tr>\n",
       "<tr><td>9</td>\n",
       "<td>9</td>\n",
       "<td>817.872910015676</td>\n",
       "<td>939.311712688957</td></tr></table>"
      ]
     },
     "execution_count": 274,
     "metadata": {},
     "output_type": "execute_result"
    }
   ],
   "source": [
    "open ElectorstaticFields\n",
    "[for x in 0.0..9. do\n",
    " for y in 0.0..9. ->\n",
    "    Array.append [|string x; string y|] (efield_sum charge_density (cm_list [|x; y|]) |> Array.map string)]\n",
    " |> tohtmlTable []"
   ]
  },
  {
   "cell_type": "code",
   "execution_count": 160,
   "metadata": {
    "collapsed": false,
    "run_control": {
     "marked": true
    },
    "scrolled": true
   },
   "outputs": [
    {
     "data": {
      "text/plain": [
       "\n",
       "val mainc ∈ unit ⟹ float ⨯ float\n",
       "val js2 ∈ string =\n",
       "  \"var TupleDouble____Double, TupleDouble_Double, MathJS__Sqrt$,\"+[14860 chars]\n",
       "val it ∈ string =\n",
       "  \"var TupleDouble____Double, TupleDouble_Double, MathJS__Sqrt$,\"+[14860 chars]"
      ]
     },
     "execution_count": 160,
     "metadata": {},
     "output_type": "execute_result"
    }
   ],
   "source": [
    "[<FunScript.JS>]\n",
    "let mainc() =\n",
    "    let x,y = 2.,3.\n",
    "   \n",
    "    vec_mag [|x;y|],electric_field_sum charge_density (cm_list [|x; y|]) |> vec_mag\n",
    "\n",
    "let js2 = Compiler.compileWithoutReturn (<@mainc()@>)\n",
    "js2"
   ]
  },
  {
   "cell_type": "code",
   "execution_count": 174,
   "metadata": {
    "collapsed": false
   },
   "outputs": [
    {
     "data": {
      "text/html": [
       "<script>var Array__ZeroCreate$Int32___Int32___, Array__ZeroCreate$Int32_Int32, Array__Initialize$Int32___Int32___, Array__Create$Int32_Int32;\r\n",
       "  Array__Create$Int32_Int32 = (function (n, x)\r\n",
       "  {\r\n",
       "    var xs = Array__ZeroCreate$Int32_Int32(0);\r\n",
       "    for (var i = 0; i <= (n - 1); i++)\r\n",
       "    {\r\n",
       "      xs[i] = x;\r\n",
       "      null;\r\n",
       "    };\r\n",
       "    return xs;\r\n",
       "  });\r\n",
       "  Array__Initialize$Int32___Int32___ = (function (n, f)\r\n",
       "  {\r\n",
       "    var xs = Array__ZeroCreate$Int32___Int32___(0);\r\n",
       "    for (var i = 0; i <= (n - 1); i++)\r\n",
       "    {\r\n",
       "      xs[i] = f(i);\r\n",
       "      null;\r\n",
       "    };\r\n",
       "    return xs;\r\n",
       "  });\r\n",
       "  Array__ZeroCreate$Int32_Int32 = (function (size)\r\n",
       "  {\r\n",
       "    return new Array(size);;\r\n",
       "  });\r\n",
       "  Array__ZeroCreate$Int32___Int32___ = (function (size)\r\n",
       "  {\r\n",
       "    return new Array(size);;\r\n",
       "  });\r\n",
       "  var tarr = Array__Initialize$Int32___Int32___(50, (function (_arg1)\r\n",
       "  {\r\n",
       "    return Array__Create$Int32_Int32(50, 1);\r\n",
       "  }));\r\n",
       "  ((window.console).log(tarr))</script>"
      ]
     },
     "execution_count": 174,
     "metadata": {},
     "output_type": "execute_result"
    }
   ],
   "source": [
    "//HIDDEN\n",
    "let js3 = Compiler.compileWithoutReturn (<@ let tarr = Array.init 50 (fun _ -> Array.create 50 1) in Globals.console.log tarr @>)\n",
    "\n",
    "{Html=\"<script>\" + js3 + \"</script>\"}"
   ]
  },
  {
   "cell_type": "code",
   "execution_count": 161,
   "metadata": {
    "code_folding": [],
    "collapsed": true,
    "run_control": {
     "marked": false
    }
   },
   "outputs": [
    {
     "data": {
      "text/plain": [
       "\n",
       "val it ∈ string =\n",
       "  \"var TupleDouble____Double, TupleDouble_Double, MathJS__Sqrt$, FSI_0207__mainc$, FSI_0206__get_charge_density$, FSI_0206__electric_field_sum$, FSI_0206__electric_field_at_r$, FSI_0206__charge_density, FSI_0197__vec_mag$, FSI_0197__sum_force_vecs, FSI_0197__squared$Double__Double_Double_Double, FSI_0197__get_sum_force_vecs$, FSI_0196__konst$Double__Int32_Double_Int32, FSI_0186__to_cm$Double_Double, FSI_0186__sub$Double__Double__Double_Double_Double_Double, FSI_0186__micro_coulombs$Int32_Int32, FSI_0186__micro_coulombs$Double_Double, FSI_0186__cm_list$Double_Double, FSI_0179__electric_field$, FSI_0176__k, FSI_0172__static_field$, FSI_0113__vec_mag$, FSI_0113__squared$Double__Double_Double_Double, FSI_0113__cube$Double__Double__Double_Double_Double_Double, Array__ZeroCreate$Tuple_2_Double____Double_Tuple_2_Double____Double_, Array__ZeroCreate$Double___Double___, Array__ZeroCreate$Double_Double, Array__MapIndexed2$Double__Double__Double_Double_Double_Double, Array__MapIndexed$Tuple_2_Double____Double__Tuple_2_Double____Double_Tuple_2_Double____Double__Tuple_2_Double____Double_, Array__MapIndexed$Tuple_2_Double____Double__Double___Tuple_2_Double____Double__Double___, Array__MapIndexed$Double__Double_Double_Double, Array__Map2$Double__Double__Double_Double_Double_Double, Array__Map$Tuple_2_Double____Double__Tuple_2_Double____Double_Tuple_2_Double____Double__Tuple_2_Double____Double_, Array__Map$Tuple_2_Double____Double__Double___Tuple_2_Double____Double__Double___, Array__Map$Double__Double_Double_Double, Array__Length$Tuple_2_Double____Double_Tuple_2_Double____Double_, Array__Length$Double___Double___, Array__Length$Double_Double, Array__Initialize$Double_Double, Array__FoldIndexed$Double____Double___Double____Double___, Array__FoldBackIndexed$Double__Double_Double_Double, Array__FoldBack$Double__Double_Double_Double, Array__Fold$Double____Double___Double____Double___;\n",
       "  Array__Fold$Double____Double___Double____Double___ = (function (f, seed, xs)\n",
       "  {\n",
       "    return Array__FoldIndexed$Double____Double___Double____Double___((function (_arg1)\n",
       "    {\n",
       "      return (function (acc)\n",
       "      {\n",
       "        return (function (x)\n",
       "        {\n",
       "          return f(acc)(x);\n",
       "        });\n",
       "      });\n",
       "    }), seed, xs);\n",
       "  });\n",
       "  Array__FoldBack$Double__Double_Double_Double = (function (f, xs, seed)\n",
       "  {\n",
       "    return Array__FoldBackIndexed$Double__Double_Double_Double((function (_arg1)\n",
       "    {\n",
       "      return (function (x)\n",
       "      {\n",
       "        return (function (acc)\n",
       "        {\n",
       "          return f(x)(acc);\n",
       "        });\n",
       "      });\n",
       "    }), xs, seed);\n",
       "  });\n",
       "  Array__FoldBackIndexed$Double__Double_Double_Double = (function (f, xs, seed)\n",
       "  {\n",
       "    var acc = seed;\n",
       "    var size = Array__Length$Double_Double(xs);\n",
       "    for (var i = 1; i <= size; i++)\n",
       "    {\n",
       "      acc = f((i - 1))(xs[(size - i)])(acc);\n",
       "      null;\n",
       "    };\n",
       "    return acc;\n",
       "  });\n",
       "  Array__FoldIndexed$Double____Double___Double____Double___ = (function (f, seed, xs)\n",
       "  {\n",
       "    var acc = seed;\n",
       "    for (var i = 0; i <= (Array__Length$Double___Double___(xs) - 1); i++)\n",
       "    {\n",
       "      acc = f(i)(acc)(xs[i]);\n",
       "      null;\n",
       "    };\n",
       "    return acc;\n",
       "  });\n",
       "  Array__Initialize$Double_Double = (function (n, f)\n",
       "  {\n",
       "    var xs = Array__ZeroCreate$Double_Double(0);\n",
       "    for (var i = 0; i <= (n - 1); i++)\n",
       "    {\n",
       "      xs[i] = f(i);\n",
       "      null;\n",
       "    };\n",
       "    return xs;\n",
       "  });\n",
       "  Array__Length$Double_Double = (function (xs)\n",
       "  {\n",
       "    return xs.length;;\n",
       "  });\n",
       "  Array__Length$Double___Double___ = (function (xs)\n",
       "  {\n",
       "    return xs.length;;\n",
       "  });\n",
       "  Array__Length$Tuple_2_Double____Double_Tuple_2_Double____Double_ = (function (xs)\n",
       "  {\n",
       "    return xs.length;;\n",
       "  });\n",
       "  Array__Map$Double__Double_Double_Double = (function (f, xs)\n",
       "  {\n",
       "    return Array__MapIndexed$Double__Double_Double_Double((function (_arg1)\n",
       "    {\n",
       "      return (function (x)\n",
       "      {\n",
       "        return f(x);\n",
       "      });\n",
       "    }), xs);\n",
       "  });\n",
       "  Array__Map$Tuple_2_Double____Double__Double___Tuple_2_Double____Double__Double___ = (function (f, xs)\n",
       "  {\n",
       "    return Array__MapIndexed$Tuple_2_Double____Double__Double___Tuple_2_Double____Double__Double___((function (_arg1)\n",
       "    {\n",
       "      return (function (x)\n",
       "      {\n",
       "        return f(x);\n",
       "      });\n",
       "    }), xs);\n",
       "  });\n",
       "  Array__Map$Tuple_2_Double____Double__Tuple_2_Double____Double_Tuple_2_Double____Double__Tuple_2_Double____Double_ = (function (f, xs)\n",
       "  {\n",
       "    return Array__MapIndexed$Tuple_2_Double____Double__Tuple_2_Double____Double_Tuple_2_Double____Double__Tuple_2_Double____Double_((function (_arg1)\n",
       "    {\n",
       "      return (function (x)\n",
       "      {\n",
       "        return f(x);\n",
       "      });\n",
       "    }), xs);\n",
       "  });\n",
       "  Array__Map2$Double__Double__Double_Double_Double_Double = (function (f, xs, ys)\n",
       "  {\n",
       "    return Array__MapIndexed2$Double__Double__Double_Double_Double_Double((function (_arg1)\n",
       "    {\n",
       "      return (function (x)\n",
       "      {\n",
       "        return (function (y)\n",
       "        {\n",
       "          return f(x)(y);\n",
       "        });\n",
       "      });\n",
       "    }), xs, ys);\n",
       "  });\n",
       "  Array__MapIndexed$Double__Double_Double_Double = (function (f, xs)\n",
       "  {\n",
       "    var ys = Array__ZeroCreate$Double_Double(Array__Length$Double_Double(xs));\n",
       "    for (var i = 0; i <= (Array__Length$Double_Double(xs) - 1); i++)\n",
       "    {\n",
       "      ys[i] = f(i)(xs[i]);\n",
       "      null;\n",
       "    };\n",
       "    return ys;\n",
       "  });\n",
       "  Array__MapIndexed$Tuple_2_Double____Double__Double___Tuple_2_Double____Double__Double___ = (function (f, xs)\n",
       "  {\n",
       "    var ys = Array__ZeroCreate$Double___Double___(Array__Length$Tuple_2_Double____Double_Tuple_2_Double____Double_(xs));\n",
       "    for (var i = 0; i <= (Array__Length$Tuple_2_Double____Double_Tuple_2_Double____Double_(xs) - 1); i++)\n",
       "    {\n",
       "      ys[i] = f(i)(xs[i]);\n",
       "      null;\n",
       "    };\n",
       "    return ys;\n",
       "  });\n",
       "  Array__MapIndexed$Tuple_2_Double____Double__Tuple_2_Double____Double_Tuple_2_Double____Double__Tuple_2_Double____Double_ = (function (f, xs)\n",
       "  {\n",
       "    var ys = Array__ZeroCreate$Tuple_2_Double____Double_Tuple_2_Double____Double_(Array__Length$Tuple_2_Double____Double_Tuple_2_Double____Double_(xs));\n",
       "    for (var i = 0; i <= (Array__Length$Tuple_2_Double____Double_Tuple_2_Double____Double_(xs) - 1); i++)\n",
       "    {\n",
       "      ys[i] = f(i)(xs[i]);\n",
       "      null;\n",
       "    };\n",
       "    return ys;\n",
       "  });\n",
       "  Array__MapIndexed2$Double__Double__Double_Double_Double_Double = (function (f, xs, ys)\n",
       "  {\n",
       "    if ((Array__Length$Double_Double(xs) != Array__Length$Double_Double(ys))) \n",
       "    {\n",
       "      throw (\"Arrays had different lengths\");\n",
       "      null;\n",
       "    }\n",
       "    else\n",
       "    {\n",
       "      ;\n",
       "    };\n",
       "    var zs = Array__ZeroCreate$Double_Double(Array__Length$Double_Double(xs));\n",
       "    for (var i = 0; i <= (Array__Length$Double_Double(xs) - 1); i++)\n",
       "    {\n",
       "      zs[i] = f(i)(xs[i])(ys[i]);\n",
       "      null;\n",
       "    };\n",
       "    return zs;\n",
       "  });\n",
       "  Array__ZeroCreate$Double_Double = (function (size)\n",
       "  {\n",
       "    return new Array(size);;\n",
       "  });\n",
       "  Array__ZeroCreate$Double___Double___ = (function (size)\n",
       "  {\n",
       "    return new Array(size);;\n",
       "  });\n",
       "  Array__ZeroCreate$Tuple_2_Double____Double_Tuple_2_Double____Double_ = (function (size)\n",
       "  {\n",
       "    return new Array(size);;\n",
       "  });\n",
       "  FSI_0113__cube$Double__Double__Double_Double_Double_Double = (function (r)\n",
       "  {\n",
       "    return ((r ⨯ r) ⨯ r);\n",
       "  });\n",
       "  FSI_0113__squared$Double__Double_Double_Double = (function (r)\n",
       "  {\n",
       "    return (r ⨯ r);\n",
       "  });\n",
       "  FSI_0113__vec_mag$ = (function (v)\n",
       "  {\n",
       "    return (function (value)\n",
       "    {\n",
       "      return MathJS__Sqrt$(value);\n",
       "    })(Array__FoldBack$Double__Double_Double_Double((function (x)\n",
       "    {\n",
       "      return (function (_x)\n",
       "      {\n",
       "        return (function (y)\n",
       "        {\n",
       "          return (_x + y);\n",
       "        });\n",
       "      })((function (_x)\n",
       "      {\n",
       "        return (function (r)\n",
       "        {\n",
       "          return FSI_0113__squared$Double__Double_Double_Double(r);\n",
       "        })((function (value)\n",
       "        {\n",
       "          return value;\n",
       "        })(_x));\n",
       "      })(x));\n",
       "    }), v, 0.000000));\n",
       "  });\n",
       "  FSI_0172__static_field$ = (function (constant, m1, r, m2)\n",
       "  {\n",
       "    var mag = (FSI_0113__vec_mag$(r) ⨯ 1.000000);\n",
       "    var scale = (((constant ⨯ m1) ⨯ m2) / FSI_0113__cube$Double__Double__Double_Double_Double_Double(mag));\n",
       "    var _318;\n",
       "    var mapping = (function (y)\n",
       "    {\n",
       "      return (scale ⨯ y);\n",
       "    });\n",
       "    _318 = (function (array)\n",
       "    {\n",
       "      return Array__Map$Double__Double_Double_Double(mapping, array);\n",
       "    });\n",
       "    return _318(r);\n",
       "  });\n",
       "  FSI_0179__electric_field$ = (function (q, r, q2)\n",
       "  {\n",
       "    return FSI_0172__static_field$(FSI_0176__k, q, r, q2);\n",
       "  });\n",
       "  FSI_0186__cm_list$Double_Double = (function (l)\n",
       "  {\n",
       "    return Array__Map$Double__Double_Double_Double((function (d)\n",
       "    {\n",
       "      return FSI_0186__to_cm$Double_Double(d);\n",
       "    }), l);\n",
       "  });\n",
       "  FSI_0186__micro_coulombs$Double_Double = (function (c)\n",
       "  {\n",
       "    return (0.000001 ⨯ c);\n",
       "  });\n",
       "  FSI_0186__micro_coulombs$Int32_Int32 = (function (c)\n",
       "  {\n",
       "    return (0.000001 ⨯ c);\n",
       "  });\n",
       "  FSI_0186__sub$Double__Double__Double_Double_Double_Double = (function (a, b)\n",
       "  {\n",
       "    return Array__Map2$Double__Double__Double_Double_Double_Double((function (x)\n",
       "    {\n",
       "      return (function (y)\n",
       "      {\n",
       "        return (x - y);\n",
       "      });\n",
       "    }), a, b);\n",
       "  });\n",
       "  FSI_0186__to_cm$Double_Double = (function (d)\n",
       "  {\n",
       "    return (d ⨯ 0.010000);\n",
       "  });\n",
       "  FSI_0196__konst$Double__Int32_Double_Int32 = (function (x, _arg1)\n",
       "  {\n",
       "    return x;\n",
       "  });\n",
       "  FSI_0197__get_sum_force_vecs$ = (function ()\n",
       "  {\n",
       "    var _154;\n",
       "    var mapping = (function (x)\n",
       "    {\n",
       "      return (function (y)\n",
       "      {\n",
       "        return (x + y);\n",
       "      });\n",
       "    });\n",
       "    _154 = (function (array1)\n",
       "    {\n",
       "      return (function (array2)\n",
       "      {\n",
       "        return Array__Map2$Double__Double__Double_Double_Double_Double(mapping, array1, array2);\n",
       "      });\n",
       "    });\n",
       "    var folder = _154;\n",
       "    var _198;\n",
       "    var _201;\n",
       "    var _202;\n",
       "    var x = 0.000000;\n",
       "    _202 = (function (arg10_)\n",
       "    {\n",
       "      return FSI_0196__konst$Double__Int32_Double_Int32(x, arg10_);\n",
       "    });\n",
       "    _201 = _202;\n",
       "    _198 = Array__Initialize$Double_Double(2, _201);\n",
       "    var state = _198;\n",
       "    return (function (array)\n",
       "    {\n",
       "      return Array__Fold$Double____Double___Double____Double___(folder, state, array);\n",
       "    });\n",
       "  });\n",
       "  FSI_0197__squared$Double__Double_Double_Double = (function (r)\n",
       "  {\n",
       "    return (r ⨯ r);\n",
       "  });\n",
       "  FSI_0197__vec_mag$ = (function (v)\n",
       "  {\n",
       "    return (function (value)\n",
       "    {\n",
       "      return MathJS__Sqrt$(value);\n",
       "    })(Array__FoldBack$Double__Double_Double_Double((function (x)\n",
       "    {\n",
       "      return (function (_x)\n",
       "      {\n",
       "        return (function (y)\n",
       "        {\n",
       "          return (_x + y);\n",
       "        });\n",
       "      })((function (_x)\n",
       "      {\n",
       "        return (function (r)\n",
       "        {\n",
       "          return FSI_0197__squared$Double__Double_Double_Double(r);\n",
       "        })((function (value)\n",
       "        {\n",
       "          return value;\n",
       "        })(_x));\n",
       "      })(x));\n",
       "    }), v, 0.000000));\n",
       "  });\n",
       "  FSI_0206__electric_field_at_r$ = (function (r, r_, q_)\n",
       "  {\n",
       "    return FSI_0179__electric_field$((function (c)\n",
       "    {\n",
       "      return FSI_0186__micro_coulombs$Int32_Int32(c);\n",
       "    })(1), FSI_0186__sub$Double__Double__Double_Double_Double_Double(r, r_), q_);\n",
       "  });\n",
       "  FSI_0206__electric_field_sum$ = (function (qs, r)\n",
       "  {\n",
       "    var _245;\n",
       "    var _246;\n",
       "    var mapping = (function (tupledArg)\n",
       "    {\n",
       "      var r_ = tupledArg.Items[0.000000];\n",
       "      var q_ = tupledArg.Items[1.000000];\n",
       "      return FSI_0206__electric_field_at_r$(r, r_, q_);\n",
       "    });\n",
       "    _246 = (function (array)\n",
       "    {\n",
       "      return Array__Map$Tuple_2_Double____Double__Double___Tuple_2_Double____Double__Double___(mapping, array);\n",
       "    });\n",
       "    _245 = _246(qs);\n",
       "    return FSI_0197__sum_force_vecs(_245);\n",
       "  });\n",
       "  FSI_0206__get_charge_density$ = (function ()\n",
       "  {\n",
       "    var _66;\n",
       "    var mapping = (function (tupledArg)\n",
       "    {\n",
       "      var v = tupledArg.Items[0.000000];\n",
       "      var q = tupledArg.Items[1.000000];\n",
       "      return (new TupleDouble____Double(FSI_0186__cm_list$Double_Double(v), FSI_0186__micro_coulombs$Double_Double(q)));\n",
       "    });\n",
       "    _66 = (function (array)\n",
       "    {\n",
       "      return Array__Map$Tuple_2_Double____Double__Tuple_2_Double____Double_Tuple_2_Double____Double__Tuple_2_Double____Double_(mapping, array);\n",
       "    });\n",
       "    return _66([(new TupleDouble____Double([0.000000, 2.500000], -3.000000)), (new TupleDouble____Double([0.000000, 0.000000], 3.000000)), (new TupleDouble____Double([2.500000, 0.000000], -3.000000))]);\n",
       "  });\n",
       "  FSI_0207__mainc$ = (function (unitVar0)\n",
       "  {\n",
       "    var patternInput = (new TupleDouble_Double(2.000000, 3.000000));\n",
       "    var y = patternInput.Items[1.000000];\n",
       "    var x = patternInput.Items[0.000000];\n",
       "    return (new TupleDouble_Double(FSI_0197__vec_mag$([x, y]), (function (v)\n",
       "    {\n",
       "      return FSI_0197__vec_mag$(v);\n",
       "    })(FSI_0206__electric_field_sum$(FSI_0206__charge_density, FSI_0186__cm_list$Double_Double([x, y])))));\n",
       "  });\n",
       "  MathJS__Sqrt$ = (function (x)\n",
       "  {\n",
       "    return Math.sqrt(x);;\n",
       "  });\n",
       "  TupleDouble_Double = (function (Item0, Item1)\n",
       "  {\n",
       "    this.Items = [Item0, Item1];\n",
       "    this.Items = [Item0, Item1];\n",
       "  });\n",
       "  TupleDouble_Double.prototype.CompareTo = (function (that)\n",
       "  {\n",
       "    var diff = 0.000000;\n",
       "    var _diff = 0.000000;\n",
       "    _diff = ((this.Items[0.000000] < that.Items[0.000000]) ? -1.000000 : ((this.Items[0.000000] == that.Items[0.000000]) ? 0.000000 : 1.000000));\n",
       "    diff = _diff;\n",
       "    if ((diff != 0.000000)) \n",
       "    {\n",
       "      return diff;\n",
       "    }\n",
       "    else\n",
       "    {\n",
       "      var __diff = 0.000000;\n",
       "      __diff = ((this.Items[1.000000] < that.Items[1.000000]) ? -1.000000 : ((this.Items[1.000000] == that.Items[1.000000]) ? 0.000000 : 1.000000));\n",
       "      diff = __diff;\n",
       "      if ((diff != 0.000000)) \n",
       "      {\n",
       "        return diff;\n",
       "      }\n",
       "      else\n",
       "      {\n",
       "        return 0.000000;\n",
       "      };\n",
       "    };\n",
       "  });\n",
       "  TupleDouble____Double = (function (Item0, Item1)\n",
       "  {\n",
       "    this.Items = [Item0, Item1];\n",
       "    this.Items = [Item0, Item1];\n",
       "  });\n",
       "  TupleDouble____Double.prototype.CompareTo = (function (that)\n",
       "  {\n",
       "    var diff = 0.000000;\n",
       "    var _diff = 0.000000;\n",
       "    var i = 0.000000;\n",
       "    while (((_diff == 0.000000) && ((i < this.Items[0.000000].length) && (i < that.Items[0.000000].length))))\n",
       "    {\n",
       "      _diff = ((this.Items[0.000000][i] < that.Items[0.000000][i]) ? -1.000000 : ((this.Items[0.000000][i] == that.Items[0.000000][i]) ? 0.000000 : 1.000000));\n",
       "      i = (i + 1.000000);\n",
       "    };\n",
       "    _diff = ((_diff == 0.000000) ? (this.Items[0.000000].length - that.Items[0.000000].length) : _diff);\n",
       "    diff = _diff;\n",
       "    if ((diff != 0.000000)) \n",
       "    {\n",
       "      return diff;\n",
       "    }\n",
       "    else\n",
       "    {\n",
       "      var __diff = 0.000000;\n",
       "      __diff = ((this.Items[1.000000] < that.Items[1.000000]) ? -1.000000 : ((this.Items[1.000000] == that.Items[1.000000]) ? 0.000000 : 1.000000));\n",
       "      diff = __diff;\n",
       "      if ((diff != 0.000000)) \n",
       "      {\n",
       "        return diff;\n",
       "      }\n",
       "      else\n",
       "      {\n",
       "        return 0.000000;\n",
       "      };\n",
       "    };\n",
       "  });\n",
       "  FSI_0206__charge_density = FSI_0206__get_charge_density$();\n",
       "  FSI_0197__sum_force_vecs = FSI_0197__get_sum_force_vecs$();\n",
       "  FSI_0207__mainc$()\""
      ]
     },
     "execution_count": 161,
     "metadata": {},
     "output_type": "execute_result"
    }
   ],
   "source": [
    "//HIDDEN\n",
    "\n",
    "js2\n"
   ]
  },
  {
   "cell_type": "code",
   "execution_count": 24,
   "metadata": {
    "code_folding": [],
    "collapsed": false,
    "run_control": {
     "marked": true
    },
    "scrolled": false
   },
   "outputs": [
    {
     "data": {
      "text/plain": [
       "\n",
       "val main ∈ unit ⟹ unit\n",
       "val js ∈ string =\n",
       "  \"var TupleDouble_Double_Double_Double_String, TupleDouble_Doub\"+[8176 chars]\n",
       "val html ∈ string =\n",
       "  \"\n",
       "<div id=\"infdiv\" style=\"width:100px;height:100px\"></div>\n",
       "<ca\"+[95 chars]"
      ]
     },
     "execution_count": 24,
     "metadata": {},
     "output_type": "execute_result"
    }
   ],
   "source": [
    "//COLLAPSIBLENOOUTPUT [[Funscript Canvas]]\n",
    "[<FunScript.JS>]\n",
    "let main () =   \n",
    "    let canvas = Globals.document.getElementById(\"canv\") :?> HTMLCanvasElement \n",
    "\n",
    "    let ctx = canvas.getContext_2d()      \n",
    "\n",
    "    let drawArrowHead(x1,y1,x2,y2) =     \n",
    "      \n",
    "      let rad = (atan2 (y2-y1) (x2-x1)) + (if x2>=x1 then 1. else -1.)*System.Math.PI/2.;\n",
    "       \n",
    "      ctx.save();\n",
    "      ctx.beginPath();\n",
    "      ctx.translate(x2,y2);\n",
    "      ctx.rotate(rad);\n",
    "      ctx.moveTo(0.,0.);\n",
    "      ctx.lineTo(5.,8.);\n",
    "      ctx.lineTo(-5.,8.);\n",
    "      ctx.closePath();\n",
    "      ctx.restore();\n",
    "      ctx.fill();\n",
    "      ()\n",
    "\n",
    "    let drawLine(x1,y1,x2,y2,col:string) =\n",
    "      ctx.strokeStyle <- col;\n",
    "      ctx.fillStyle <- col;\n",
    "      ctx.lineWidth <- 1.;\n",
    "\n",
    "      // draw the line\n",
    "      ctx.beginPath();\n",
    "      ctx.moveTo(x1,y1);\n",
    "      ctx.lineTo(x2,y2);\n",
    "      ctx.stroke();\n",
    "      (x1,y1,x2,y2)\n",
    "\n",
    "    let getMousePos(e:MouseEvent) =\n",
    "        let rect = canvas.getBoundingClientRect();\n",
    "        e.clientX - rect.left, e.clientY - rect.top\n",
    "\n",
    "    let drawCircle(x,y) =\n",
    "        ctx.beginPath()\n",
    "        ctx.arc(x,y,5.,0.,2. * System.Math.PI);\n",
    "        ctx.fill()\n",
    "        ctx.stroke()\n",
    "        ()\n",
    "\n",
    "    let infdiv = Globals.document.getElementById(\"infdiv\")\n",
    "\n",
    "    canvas.addEventListener_mousemove(fun e ->  \n",
    "        let x,y = getMousePos e \n",
    "        infdiv.innerHTML <- x.ToString() + \", \" + y.ToString()\n",
    "        null)  \n",
    "    \n",
    "    let drawArrow = drawLine >> drawArrowHead\n",
    "    \n",
    "    canvas.addEventListener_mousedown(fun e ->   \n",
    "        drawCircle(getMousePos e); \n",
    "        let x,y = getMousePos e\n",
    "        drawArrow(0.,0.,x,y,\"rgba(0,0,255,0.3)\")\n",
    "        drawArrow(x,y, x + 50.,y+20.,\"red\")\n",
    "        null)      \n",
    "    ()\n",
    "      \n",
    "let js = Compiler.compileWithoutReturn (<@main()@>)  //(<@ MyNamespace.MyModule.SomeFunc @>)\n",
    "\n",
    "let html = \"\"\"\n",
    "<div id=\"infdiv\" style=\"width:100px;height:100px\"></div>\n",
    "<canvas id=\"canv\" width=\"300\" height=\"300\" style=\"border-width:1px;border-style:solid\"></canvas>\n",
    "\n",
    "\"\"\"\n",
    "\n"
   ]
  },
  {
   "cell_type": "code",
   "execution_count": 103,
   "metadata": {
    "code_folding": [
     0
    ],
    "collapsed": false,
    "run_control": {
     "marked": false
    },
    "scrolled": true
   },
   "outputs": [
    {
     "data": {
      "text/plain": [
       "\n",
       "val it ∈ string =\n",
       "  \"\n",
       "<div id=\"infdiv\" style=\"width:100px;height:100px\"/>\n",
       "<canvas id=\"canv\"\" width=\"300\" height=\"300\" style=\"border-width:1px;border-style:solid\"/>\n",
       "<script>var TupleDouble_Double_Double_Double, TupleDouble_Double, MathJS__Atan2$, LanguagePrimitives__UnboxGeneric$HTMLCanvasElement_HTMLCanvasElement_, FSI_0151__main$;\n",
       "  FSI_0151__main$ = (function (unitVar0)\n",
       "  {\n",
       "    var canvas = LanguagePrimitives__UnboxGeneric$HTMLCanvasElement_HTMLCanvasElement_(((window.document).getElementById(\"canv\")));\n",
       "    var ctx = (canvas.getContext(\"2d\"));\n",
       "    var drawArrowHead = (function (tupledArg)\n",
       "    {\n",
       "      var x1 = tupledArg.Items[0.000000];\n",
       "      var y1 = tupledArg.Items[1.000000];\n",
       "      var x2 = tupledArg.Items[2.000000];\n",
       "      var y2 = tupledArg.Items[3.000000];\n",
       "      var _17;\n",
       "      var _27;\n",
       "      var _28;\n",
       "      var _29;\n",
       "      if ((x2 > x1)) \n",
       "      {\n",
       "        _29 = 1.000000;\n",
       "      }\n",
       "      else\n",
       "      {\n",
       "        _29 = -1.000000;\n",
       "      };\n",
       "      _28 = (_29 ⨯ 3.141593);\n",
       "      _27 = (_28 / 2.000000);\n",
       "      _17 = (MathJS__Atan2$((y2 - y1), (x2 - x1)) + _27);\n",
       "      var rad = _17;\n",
       "      (ctx.save());\n",
       "      (ctx.beginPath());\n",
       "      (ctx.translate(x2, y2));\n",
       "      (ctx.rotate(rad));\n",
       "      (ctx.moveTo(0.000000, 0.000000));\n",
       "      (ctx.lineTo(5.000000, 8.000000));\n",
       "      (ctx.lineTo(-5.000000, 8.000000));\n",
       "      (ctx.closePath());\n",
       "      (ctx.restore());\n",
       "      (ctx.fill());\n",
       "    });\n",
       "    var drawLine = (function (tupledArg)\n",
       "    {\n",
       "      var x1 = tupledArg.Items[0.000000];\n",
       "      var y1 = tupledArg.Items[1.000000];\n",
       "      var x2 = tupledArg.Items[2.000000];\n",
       "      var y2 = tupledArg.Items[3.000000];\n",
       "      (ctx.strokeStyle) = \"blue\";\n",
       "      null;\n",
       "      (ctx.fillStyle) = \"blue\";\n",
       "      null;\n",
       "      (ctx.lineWidth) = 1.000000;\n",
       "      null;\n",
       "      (ctx.beginPath());\n",
       "      (ctx.moveTo(x1, y1));\n",
       "      (ctx.lineTo(x2, y2));\n",
       "      (ctx.stroke());\n",
       "      return (new TupleDouble_Double_Double_Double(x1, y1, x2, y2));\n",
       "    });\n",
       "    var getMousePos = (function (e)\n",
       "    {\n",
       "      var rect = (canvas.getBoundingClientRect());\n",
       "      return (new TupleDouble_Double(((e.clientX) - (rect.left)), ((e.clientY) - (rect.top))));\n",
       "    });\n",
       "    var drawCircle = (function (tupledArg)\n",
       "    {\n",
       "      var x = tupledArg.Items[0.000000];\n",
       "      var y = tupledArg.Items[1.000000];\n",
       "      (ctx.beginPath());\n",
       "      (ctx.arc(x, y, 5.000000, 0.000000, (2.000000 ⨯ 3.141593)));\n",
       "      (ctx.stroke());\n",
       "    });\n",
       "    var infdiv = ((window.document).getElementById(\"infdiv\"));\n",
       "    (canvas.addEventListener(\"mousemove\", (function (e)\n",
       "    {\n",
       "      var patternInput = getMousePos(e);\n",
       "      var y = patternInput.Items[1.000000];\n",
       "      var x = patternInput.Items[0.000000];\n",
       "      (infdiv.innerHTML) = ((x.toString() + \", \") + y.toString());\n",
       "      null;\n",
       "      return null;\n",
       "    })));\n",
       "    var drawArrow = (function (x)\n",
       "    {\n",
       "      return drawArrowHead(drawLine(x));\n",
       "    });\n",
       "    (canvas.addEventListener(\"mousedown\", (function (e)\n",
       "    {\n",
       "      drawCircle(getMousePos(e));\n",
       "      var patternInput = getMousePos(e);\n",
       "      var y = patternInput.Items[1.000000];\n",
       "      var x = patternInput.Items[0.000000];\n",
       "      drawArrow((new TupleDouble_Double_Double_Double(x, y, (x + 50.000000), (y + 20.000000))));\n",
       "      return null;\n",
       "    })));\n",
       "  });\n",
       "  LanguagePrimitives__UnboxGeneric$HTMLCanvasElement_HTMLCanvasElement_ = (function (x)\n",
       "  {\n",
       "    return x;;\n",
       "  });\n",
       "  MathJS__Atan2$ = (function (x, y)\n",
       "  {\n",
       "    return Math.atan2(x, y);;\n",
       "  });\n",
       "  TupleDouble_Double = (function (Item0, Item1)\n",
       "  {\n",
       "    this.Items = [Item0, Item1];\n",
       "    this.Items = [Item0, Item1];\n",
       "  });\n",
       "  TupleDouble_Double.prototype.CompareTo = (function (that)\n",
       "  {\n",
       "    var diff = 0.000000;\n",
       "    var _diff = 0.000000;\n",
       "    _diff = ((this.Items[0.000000] < that.Items[0.000000]) ? -1.000000 : ((this.Items[0.000000] == that.Items[0.000000]) ? 0.000000 : 1.000000));\n",
       "    diff = _diff;\n",
       "    if ((diff != 0.000000)) \n",
       "    {\n",
       "      return diff;\n",
       "    }\n",
       "    else\n",
       "    {\n",
       "      var __diff = 0.000000;\n",
       "      __diff = ((this.Items[1.000000] < that.Items[1.000000]) ? -1.000000 : ((this.Items[1.000000] == that.Items[1.000000]) ? 0.000000 : 1.000000));\n",
       "      diff = __diff;\n",
       "      if ((diff != 0.000000)) \n",
       "      {\n",
       "        return diff;\n",
       "      }\n",
       "      else\n",
       "      {\n",
       "        return 0.000000;\n",
       "      };\n",
       "    };\n",
       "  });\n",
       "  TupleDouble_Double_Double_Double = (function (Item0, Item1, Item2, Item3)\n",
       "  {\n",
       "    this.Items = [Item0, Item1, Item2, Item3];\n",
       "    this.Items = [Item0, Item1, Item2, Item3];\n",
       "    this.Items = [Item0, Item1, Item2, Item3];\n",
       "    this.Items = [Item0, Item1, Item2, Item3];\n",
       "  });\n",
       "  TupleDouble_Double_Double_Double.prototype.CompareTo = (function (that)\n",
       "  {\n",
       "    var diff = 0.000000;\n",
       "    var _diff = 0.000000;\n",
       "    _diff = ((this.Items[0.000000] < that.Items[0.000000]) ? -1.000000 : ((this.Items[0.000000] == that.Items[0.000000]) ? 0.000000 : 1.000000));\n",
       "    diff = _diff;\n",
       "    if ((diff != 0.000000)) \n",
       "    {\n",
       "      return diff;\n",
       "    }\n",
       "    else\n",
       "    {\n",
       "      var __diff = 0.000000;\n",
       "      __diff = ((this.Items[1.000000] < that.Items[1.000000]) ? -1.000000 : ((this.Items[1.000000] == that.Items[1.000000]) ? 0.000000 : 1.000000));\n",
       "      diff = __diff;\n",
       "      if ((diff != 0.000000)) \n",
       "      {\n",
       "        return diff;\n",
       "      }\n",
       "      else\n",
       "      {\n",
       "        var ___diff = 0.000000;\n",
       "        ___diff = ((this.Items[2.000000] < that.Items[2.000000]) ? -1.000000 : ((this.Items[2.000000] == that.Items[2.000000]) ? 0.000000 : 1.000000));\n",
       "        diff = ___diff;\n",
       "        if ((diff != 0.000000)) \n",
       "        {\n",
       "          return diff;\n",
       "        }\n",
       "        else\n",
       "        {\n",
       "          var ____diff = 0.000000;\n",
       "          ____diff = ((this.Items[3.000000] < that.Items[3.000000]) ? -1.000000 : ((this.Items[3.000000] == that.Items[3.000000]) ? 0.000000 : 1.000000));\n",
       "          diff = ____diff;\n",
       "          if ((diff != 0.000000)) \n",
       "          {\n",
       "            return diff;\n",
       "          }\n",
       "          else\n",
       "          {\n",
       "            return 0.000000;\n",
       "          };\n",
       "        };\n",
       "      };\n",
       "    };\n",
       "  });\n",
       "  FSI_0151__main$()</script>\""
      ]
     },
     "execution_count": 103,
     "metadata": {},
     "output_type": "execute_result"
    }
   ],
   "source": [
    "//HIDDEN\n",
    "html + \"<script>\" + js + \"</script>\""
   ]
  },
  {
   "cell_type": "code",
   "execution_count": 25,
   "metadata": {
    "code_folding": [],
    "collapsed": false,
    "run_control": {
     "marked": true
    }
   },
   "outputs": [
    {
     "data": {
      "text/html": [
       "\n",
       "<div id=\"infdiv\" style=\"width:100px;height:100px\"></div>\n",
       "<canvas id=\"canv\" width=\"300\" height=\"300\" style=\"border-width:1px;border-style:solid\"></canvas>\n",
       "\n",
       "<script>var TupleDouble_Double_Double_Double_String, TupleDouble_Double_Double_Double, TupleDouble_Double, MathJS__Atan2$, LanguagePrimitives__UnboxGeneric$HTMLCanvasElement_HTMLCanvasElement_, FSI_0032__main$;\r\n",
       "  FSI_0032__main$ = (function (unitVar0)\r\n",
       "  {\r\n",
       "    var canvas = LanguagePrimitives__UnboxGeneric$HTMLCanvasElement_HTMLCanvasElement_(((window.document).getElementById(\"canv\")));\r\n",
       "    var ctx = (canvas.getContext(\"2d\"));\r\n",
       "    var drawArrowHead = (function (tupledArg)\r\n",
       "    {\r\n",
       "      var x1 = tupledArg.Items[0.000000];\r\n",
       "      var y1 = tupledArg.Items[1.000000];\r\n",
       "      var x2 = tupledArg.Items[2.000000];\r\n",
       "      var y2 = tupledArg.Items[3.000000];\r\n",
       "      var _17;\r\n",
       "      var _27;\r\n",
       "      var _28;\r\n",
       "      var _29;\r\n",
       "      if ((x2 >= x1)) \r\n",
       "      {\r\n",
       "        _29 = 1.000000;\r\n",
       "      }\r\n",
       "      else\r\n",
       "      {\r\n",
       "        _29 = -1.000000;\r\n",
       "      };\r\n",
       "      _28 = (_29 * 3.141593);\r\n",
       "      _27 = (_28 / 2.000000);\r\n",
       "      _17 = (MathJS__Atan2$((y2 - y1), (x2 - x1)) + _27);\r\n",
       "      var rad = _17;\r\n",
       "      (ctx.save());\r\n",
       "      (ctx.beginPath());\r\n",
       "      (ctx.translate(x2, y2));\r\n",
       "      (ctx.rotate(rad));\r\n",
       "      (ctx.moveTo(0.000000, 0.000000));\r\n",
       "      (ctx.lineTo(5.000000, 8.000000));\r\n",
       "      (ctx.lineTo(-5.000000, 8.000000));\r\n",
       "      (ctx.closePath());\r\n",
       "      (ctx.restore());\r\n",
       "      (ctx.fill());\r\n",
       "    });\r\n",
       "    var drawLine = (function (tupledArg)\r\n",
       "    {\r\n",
       "      var x1 = tupledArg.Items[0.000000];\r\n",
       "      var y1 = tupledArg.Items[1.000000];\r\n",
       "      var x2 = tupledArg.Items[2.000000];\r\n",
       "      var y2 = tupledArg.Items[3.000000];\r\n",
       "      var col = tupledArg.Items[4.000000];\r\n",
       "      (ctx.strokeStyle) = col;\r\n",
       "      null;\r\n",
       "      (ctx.fillStyle) = col;\r\n",
       "      null;\r\n",
       "      (ctx.lineWidth) = 1.000000;\r\n",
       "      null;\r\n",
       "      (ctx.beginPath());\r\n",
       "      (ctx.moveTo(x1, y1));\r\n",
       "      (ctx.lineTo(x2, y2));\r\n",
       "      (ctx.stroke());\r\n",
       "      return (new TupleDouble_Double_Double_Double(x1, y1, x2, y2));\r\n",
       "    });\r\n",
       "    var getMousePos = (function (e)\r\n",
       "    {\r\n",
       "      var rect = (canvas.getBoundingClientRect());\r\n",
       "      return (new TupleDouble_Double(((e.clientX) - (rect.left)), ((e.clientY) - (rect.top))));\r\n",
       "    });\r\n",
       "    var drawCircle = (function (tupledArg)\r\n",
       "    {\r\n",
       "      var x = tupledArg.Items[0.000000];\r\n",
       "      var y = tupledArg.Items[1.000000];\r\n",
       "      (ctx.beginPath());\r\n",
       "      (ctx.arc(x, y, 5.000000, 0.000000, (2.000000 * 3.141593)));\r\n",
       "      (ctx.fill());\r\n",
       "      (ctx.stroke());\r\n",
       "    });\r\n",
       "    var infdiv = ((window.document).getElementById(\"infdiv\"));\r\n",
       "    (canvas.addEventListener(\"mousemove\", (function (e)\r\n",
       "    {\r\n",
       "      var patternInput = getMousePos(e);\r\n",
       "      var y = patternInput.Items[1.000000];\r\n",
       "      var x = patternInput.Items[0.000000];\r\n",
       "      (infdiv.innerHTML) = ((x.toString() + \", \") + y.toString());\r\n",
       "      null;\r\n",
       "      return null;\r\n",
       "    })));\r\n",
       "    var drawArrow = (function (x)\r\n",
       "    {\r\n",
       "      return drawArrowHead(drawLine(x));\r\n",
       "    });\r\n",
       "    (canvas.addEventListener(\"mousedown\", (function (e)\r\n",
       "    {\r\n",
       "      drawCircle(getMousePos(e));\r\n",
       "      var patternInput = getMousePos(e);\r\n",
       "      var y = patternInput.Items[1.000000];\r\n",
       "      var x = patternInput.Items[0.000000];\r\n",
       "      drawArrow((new TupleDouble_Double_Double_Double_String(0.000000, 0.000000, x, y, \"rgba(0,0,255,0.3)\")));\r\n",
       "      drawArrow((new TupleDouble_Double_Double_Double_String(x, y, (x + 50.000000), (y + 20.000000), \"red\")));\r\n",
       "      return null;\r\n",
       "    })));\r\n",
       "  });\r\n",
       "  LanguagePrimitives__UnboxGeneric$HTMLCanvasElement_HTMLCanvasElement_ = (function (x)\r\n",
       "  {\r\n",
       "    return x;;\r\n",
       "  });\r\n",
       "  MathJS__Atan2$ = (function (x, y)\r\n",
       "  {\r\n",
       "    return Math.atan2(x, y);;\r\n",
       "  });\r\n",
       "  TupleDouble_Double = (function (Item0, Item1)\r\n",
       "  {\r\n",
       "    this.Items = [Item0, Item1];\r\n",
       "    this.Items = [Item0, Item1];\r\n",
       "  });\r\n",
       "  TupleDouble_Double.prototype.CompareTo = (function (that)\r\n",
       "  {\r\n",
       "    var diff = 0.000000;\r\n",
       "    var _diff = 0.000000;\r\n",
       "    _diff = ((this.Items[0.000000] < that.Items[0.000000]) ? -1.000000 : ((this.Items[0.000000] == that.Items[0.000000]) ? 0.000000 : 1.000000));\r\n",
       "    diff = _diff;\r\n",
       "    if ((diff != 0.000000)) \r\n",
       "    {\r\n",
       "      return diff;\r\n",
       "    }\r\n",
       "    else\r\n",
       "    {\r\n",
       "      var __diff = 0.000000;\r\n",
       "      __diff = ((this.Items[1.000000] < that.Items[1.000000]) ? -1.000000 : ((this.Items[1.000000] == that.Items[1.000000]) ? 0.000000 : 1.000000));\r\n",
       "      diff = __diff;\r\n",
       "      if ((diff != 0.000000)) \r\n",
       "      {\r\n",
       "        return diff;\r\n",
       "      }\r\n",
       "      else\r\n",
       "      {\r\n",
       "        return 0.000000;\r\n",
       "      };\r\n",
       "    };\r\n",
       "  });\r\n",
       "  TupleDouble_Double_Double_Double = (function (Item0, Item1, Item2, Item3)\r\n",
       "  {\r\n",
       "    this.Items = [Item0, Item1, Item2, Item3];\r\n",
       "    this.Items = [Item0, Item1, Item2, Item3];\r\n",
       "    this.Items = [Item0, Item1, Item2, Item3];\r\n",
       "    this.Items = [Item0, Item1, Item2, Item3];\r\n",
       "  });\r\n",
       "  TupleDouble_Double_Double_Double.prototype.CompareTo = (function (that)\r\n",
       "  {\r\n",
       "    var diff = 0.000000;\r\n",
       "    var _diff = 0.000000;\r\n",
       "    _diff = ((this.Items[0.000000] < that.Items[0.000000]) ? -1.000000 : ((this.Items[0.000000] == that.Items[0.000000]) ? 0.000000 : 1.000000));\r\n",
       "    diff = _diff;\r\n",
       "    if ((diff != 0.000000)) \r\n",
       "    {\r\n",
       "      return diff;\r\n",
       "    }\r\n",
       "    else\r\n",
       "    {\r\n",
       "      var __diff = 0.000000;\r\n",
       "      __diff = ((this.Items[1.000000] < that.Items[1.000000]) ? -1.000000 : ((this.Items[1.000000] == that.Items[1.000000]) ? 0.000000 : 1.000000));\r\n",
       "      diff = __diff;\r\n",
       "      if ((diff != 0.000000)) \r\n",
       "      {\r\n",
       "        return diff;\r\n",
       "      }\r\n",
       "      else\r\n",
       "      {\r\n",
       "        var ___diff = 0.000000;\r\n",
       "        ___diff = ((this.Items[2.000000] < that.Items[2.000000]) ? -1.000000 : ((this.Items[2.000000] == that.Items[2.000000]) ? 0.000000 : 1.000000));\r\n",
       "        diff = ___diff;\r\n",
       "        if ((diff != 0.000000)) \r\n",
       "        {\r\n",
       "          return diff;\r\n",
       "        }\r\n",
       "        else\r\n",
       "        {\r\n",
       "          var ____diff = 0.000000;\r\n",
       "          ____diff = ((this.Items[3.000000] < that.Items[3.000000]) ? -1.000000 : ((this.Items[3.000000] == that.Items[3.000000]) ? 0.000000 : 1.000000));\r\n",
       "          diff = ____diff;\r\n",
       "          if ((diff != 0.000000)) \r\n",
       "          {\r\n",
       "            return diff;\r\n",
       "          }\r\n",
       "          else\r\n",
       "          {\r\n",
       "            return 0.000000;\r\n",
       "          };\r\n",
       "        };\r\n",
       "      };\r\n",
       "    };\r\n",
       "  });\r\n",
       "  TupleDouble_Double_Double_Double_String = (function (Item0, Item1, Item2, Item3, Item4)\r\n",
       "  {\r\n",
       "    this.Items = [Item0, Item1, Item2, Item3, Item4];\r\n",
       "    this.Items = [Item0, Item1, Item2, Item3, Item4];\r\n",
       "    this.Items = [Item0, Item1, Item2, Item3, Item4];\r\n",
       "    this.Items = [Item0, Item1, Item2, Item3, Item4];\r\n",
       "    this.Items = [Item0, Item1, Item2, Item3, Item4];\r\n",
       "  });\r\n",
       "  TupleDouble_Double_Double_Double_String.prototype.CompareTo = (function (that)\r\n",
       "  {\r\n",
       "    var diff = 0.000000;\r\n",
       "    var _diff = 0.000000;\r\n",
       "    _diff = ((this.Items[0.000000] < that.Items[0.000000]) ? -1.000000 : ((this.Items[0.000000] == that.Items[0.000000]) ? 0.000000 : 1.000000));\r\n",
       "    diff = _diff;\r\n",
       "    if ((diff != 0.000000)) \r\n",
       "    {\r\n",
       "      return diff;\r\n",
       "    }\r\n",
       "    else\r\n",
       "    {\r\n",
       "      var __diff = 0.000000;\r\n",
       "      __diff = ((this.Items[1.000000] < that.Items[1.000000]) ? -1.000000 : ((this.Items[1.000000] == that.Items[1.000000]) ? 0.000000 : 1.000000));\r\n",
       "      diff = __diff;\r\n",
       "      if ((diff != 0.000000)) \r\n",
       "      {\r\n",
       "        return diff;\r\n",
       "      }\r\n",
       "      else\r\n",
       "      {\r\n",
       "        var ___diff = 0.000000;\r\n",
       "        ___diff = ((this.Items[2.000000] < that.Items[2.000000]) ? -1.000000 : ((this.Items[2.000000] == that.Items[2.000000]) ? 0.000000 : 1.000000));\r\n",
       "        diff = ___diff;\r\n",
       "        if ((diff != 0.000000)) \r\n",
       "        {\r\n",
       "          return diff;\r\n",
       "        }\r\n",
       "        else\r\n",
       "        {\r\n",
       "          var ____diff = 0.000000;\r\n",
       "          ____diff = ((this.Items[3.000000] < that.Items[3.000000]) ? -1.000000 : ((this.Items[3.000000] == that.Items[3.000000]) ? 0.000000 : 1.000000));\r\n",
       "          diff = ____diff;\r\n",
       "          if ((diff != 0.000000)) \r\n",
       "          {\r\n",
       "            return diff;\r\n",
       "          }\r\n",
       "          else\r\n",
       "          {\r\n",
       "            var _____diff = 0.000000;\r\n",
       "            _____diff = ((this.Items[4.000000] < that.Items[4.000000]) ? -1.000000 : ((this.Items[4.000000] == that.Items[4.000000]) ? 0.000000 : 1.000000));\r\n",
       "            diff = _____diff;\r\n",
       "            if ((diff != 0.000000)) \r\n",
       "            {\r\n",
       "              return diff;\r\n",
       "            }\r\n",
       "            else\r\n",
       "            {\r\n",
       "              return 0.000000;\r\n",
       "            };\r\n",
       "          };\r\n",
       "        };\r\n",
       "      };\r\n",
       "    };\r\n",
       "  });\r\n",
       "  FSI_0032__main$()</script>"
      ]
     },
     "execution_count": 25,
     "metadata": {},
     "output_type": "execute_result"
    }
   ],
   "source": [
    "{Html = html + \"<script>\" + js + \"</script>\"}"
   ]
  },
  {
   "cell_type": "code",
   "execution_count": 259,
   "metadata": {
    "code_folding": [],
    "collapsed": true,
    "hide_input": false,
    "hide_output": false,
    "run_control": {
     "marked": false
    }
   },
   "outputs": [],
   "source": [
    "//HIDDEN csquery\n",
    "//\n",
    "#r @\"C:\\Users\\sir.deenicus\\Documents\\Visual Studio 2012\\open\\CsQuery\\distribution\\csquery.dll\"\n",
    "open System"
   ]
  },
  {
   "cell_type": "code",
   "execution_count": 293,
   "metadata": {
    "code_folding": [
     0
    ],
    "collapsed": false
   },
   "outputs": [
    {
     "data": {
      "text/plain": [
       "\n",
       "val gethtml ∈ f∈('a ⟹ 'b) ⟹ s∈seq<'a> ⟹ 'b []\n",
       "val cq ∈ CsQuery.CQ\n",
       "val divs ∈ CsQuery.CQ\n",
       "val hiddens ∈ CsQuery.CQ\n",
       "val hiddenins ∈ CsQuery.CQ\n",
       "val toggleScript ∈ CsQuery.CQ\n",
       "val scripts ∈ CsQuery.CQ\n",
       "val collapsibles ∈ CsQuery.CQ\n",
       "val headers ∈ string [] =\n",
       "  [|\"vector helpers\"; \"Visualize Fields\"; \"Funscript Canvas\"|]\n",
       "val toggleheader ∈ CsQuery.CQ\n",
       "val no_outs ∈ CsQuery.CQ\n",
       "val hide_outs ∈ CsQuery.CQ\n",
       "val nhtm ∈ string =\n",
       "  \"<!DOCTYPE html><html><head>\n",
       "<meta charset=\"utf-8\">\n",
       "<title>Fi\"+[319830 chars]\n",
       "val it ∈ unit = ()\n"
      ]
     },
     "execution_count": 293,
     "metadata": {},
     "output_type": "execute_result"
    }
   ],
   "source": [
    "//HIDDEN Clean notebook\n",
    "//METAIGNORE\n",
    "let gethtml f s = s |> Seq.toArray |> Array.map f   \n",
    "\n",
    "let cq = CsQuery.CQ.Create(IO.File.ReadAllText(@\"C:\\Users\\sir.deenicus\\Documents\\Fields as Curried Functions.html\"))\n",
    "\n",
    "let divs = cq.Select(\".input\")\n",
    "\n",
    "let hiddens = divs.Filter(fun div ->\n",
    "    div.InnerHTML.Contains \"HIDDEN\" && \n",
    "    (not (div.InnerHTML.Contains \"HIDDENINPUT\") || div.InnerHTML.Contains \"METAIGNORE\")).Parent()\n",
    "\n",
    "hiddens.Remove()\n",
    "\n",
    "let hiddenins = divs.Filter(fun div -> div.InnerHTML.Contains \"HIDDENINPUT\")\n",
    "hiddenins.Next().Find(\".prompt\").Each(fun n -> n.InnerText <- \"\")\n",
    "hiddenins.Remove()\n",
    "\n",
    "let toggleScript = CsQuery.CQ.Create (\"<script>\n",
    "function toggleHeader(div) {\n",
    "\n",
    "    var nextSibling = div.nextSibling;\n",
    "    var isVisible = nextSibling.offsetWidth > 0 || nextSibling.offsetHeight > 0;\n",
    "\n",
    "    if(isVisible){\n",
    "      nextSibling.style.display = 'none';\n",
    "      div.innerHTML = 'Expand ' + div.getAttribute('info');}\n",
    "    else {nextSibling.style.display = '';\n",
    "          div.innerHTML = 'Collapse ' + div.getAttribute('info');}\n",
    "}\n",
    "</script>\")\n",
    "\n",
    "let scripts = cq.Select(\"head\").Find(\"script\")  \n",
    "\n",
    "toggleScript.InsertAfter(scripts.Last())\n",
    " \n",
    "///////////////\n",
    "\n",
    "let collapsibles = divs.Filter(fun div -> \n",
    "    div.InnerHTML.Contains \"COLLAPSIBLE\" && not (div.InnerHTML.Contains \"METAIGNORE\"))\n",
    "\n",
    "collapsibles.Each(fun n -> n.Style.SetStyle(\"display\", \"none\"))\n",
    "\n",
    "let headers = \n",
    "   collapsibles |> gethtml (fun n -> \n",
    "      let txt = n.InnerText\n",
    "      let i0 = txt.IndexOf(\"[[\")\n",
    "      if i0 <> -1 && i0 < 50 then\n",
    "         let i2 = txt.IndexOf(\"]]\")\n",
    "         txt.[i0+2..i2-1]\n",
    "      else \"\") |> Array.filter ((<>) \"\")\n",
    "\n",
    "let toggleheader = CsQuery.CQ.Create (\"<div class = 'collheader' onclick='toggleHeader(this)' style='background-color:gray;cursor:pointer;margin-left:83.5px;color:white;font-weight:bold;font-size:18px'>REPLACE</div>\")\n",
    "\n",
    "toggleheader.InsertBefore collapsibles\n",
    " \n",
    "divs.Select(\".collheader\").Each(fun i n -> \n",
    "    n.InnerHTML <- \"Expand \" + headers.[i]; n.SetAttribute(\"info\", headers.[i]))\n",
    "\n",
    "let no_outs = collapsibles.Filter(fun div -> div.InnerHTML.Contains \"COLLAPSIBLENOOUTPUT\")\n",
    "no_outs.Next().Remove() \n",
    "\n",
    "let hide_outs = divs.Filter(fun div -> div.InnerHTML.Contains \"HIDEOUTPUT\")\n",
    "hide_outs.Next().Remove() \n",
    "\n",
    "let nhtm = cq.Render()\n",
    "\n",
    "IO.File.WriteAllText(@\"C:\\Users\\sir.deenicus\\Anaconda\\Fields_as_Curried_Functions.html\", nhtm)"
   ]
  }
 ],
 "metadata": {
  "kernelspec": {
   "display_name": "Python 2",
   "language": "python",
   "name": "python2"
  },
  "language": "fsharp",
  "language_info": {
   "name": "fsharp",
   "version": "1.0.0"
  }
 },
 "nbformat": 4,
 "nbformat_minor": 0
}
